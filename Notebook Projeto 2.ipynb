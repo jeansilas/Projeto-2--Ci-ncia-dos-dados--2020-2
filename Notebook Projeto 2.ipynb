{
 "cells": [
  {
   "cell_type": "markdown",
   "metadata": {},
   "source": [
    "# Projeto 2 de Ciência de dados:\n",
    " \n",
    " \n",
    " #### Introdução:\n",
    "  Este projeto objetifica a tentativa de criação de um modelo de predição cuja variável de interesse é o Rating que um aplicativo da PlayStore recebe, de acordo com algumas caraceterísticas intrínsecas. O modelo fará isso utilizando um Dataset importado do Kaggle e um processe de regressão.\n",
    " \n",
    " #### Link do dataset:\n",
    "  * https://www.kaggle.com/lava18/google-play-store-apps\n",
    " \n",
    "#### Integrantes:\n",
    "*  Jean Silas\n",
    "*  Isabelle Moschini\n",
    "*  Matheus Barros\n",
    "*  Rafael Monteiro\n",
    "\n",
    "#### Váriavel Target:\n",
    "   * Ratings (0 a 5)\n",
    "   \n",
    "   \n",
    "#### Features:\n",
    "   * Category\n",
    "   * Reviews\n",
    "   * Installs\n",
    "   * Price\n",
    "   * Content Rating"
   ]
  },
  {
   "cell_type": "markdown",
   "metadata": {},
   "source": [
    "# 1- Importando as bibliotecas e lendo a base de dados (dataset) :"
   ]
  },
  {
   "cell_type": "code",
   "execution_count": 2,
   "metadata": {},
   "outputs": [],
   "source": [
    "#Importando as Bibliotecas:\n",
    "import pandas as pd\n",
    "import numpy as np\n",
    "import matplotlib.pyplot as plt\n",
    "import re\n",
    "import seaborn as sns\n",
    "import scipy.stats as stats \n",
    "import sklearn "
   ]
  },
  {
   "cell_type": "code",
   "execution_count": 3,
   "metadata": {},
   "outputs": [
    {
     "name": "stdout",
     "output_type": "stream",
     "text": [
      "Este dataset possui 10841 linhas e 13 colunas\n"
     ]
    }
   ],
   "source": [
    "#Abrindo o Dataset\n",
    "dataset = pd.read_csv('googleplaystore.csv')\n",
    "\n",
    "#Verificando suas dimensões\n",
    "print('Este dataset possui {} linhas e {} colunas'.format(dataset.shape[0],dataset.shape[1]))"
   ]
  },
  {
   "cell_type": "code",
   "execution_count": 4,
   "metadata": {},
   "outputs": [
    {
     "data": {
      "text/html": [
       "<div>\n",
       "<style scoped>\n",
       "    .dataframe tbody tr th:only-of-type {\n",
       "        vertical-align: middle;\n",
       "    }\n",
       "\n",
       "    .dataframe tbody tr th {\n",
       "        vertical-align: top;\n",
       "    }\n",
       "\n",
       "    .dataframe thead th {\n",
       "        text-align: right;\n",
       "    }\n",
       "</style>\n",
       "<table border=\"1\" class=\"dataframe\">\n",
       "  <thead>\n",
       "    <tr style=\"text-align: right;\">\n",
       "      <th></th>\n",
       "      <th>App</th>\n",
       "      <th>Category</th>\n",
       "      <th>Rating</th>\n",
       "      <th>Reviews</th>\n",
       "      <th>Size</th>\n",
       "      <th>Installs</th>\n",
       "      <th>Type</th>\n",
       "      <th>Price</th>\n",
       "      <th>Content Rating</th>\n",
       "      <th>Genres</th>\n",
       "      <th>Last Updated</th>\n",
       "      <th>Current Ver</th>\n",
       "      <th>Android Ver</th>\n",
       "    </tr>\n",
       "  </thead>\n",
       "  <tbody>\n",
       "    <tr>\n",
       "      <td>0</td>\n",
       "      <td>Photo Editor &amp; Candy Camera &amp; Grid &amp; ScrapBook</td>\n",
       "      <td>ART_AND_DESIGN</td>\n",
       "      <td>4.1</td>\n",
       "      <td>159</td>\n",
       "      <td>19M</td>\n",
       "      <td>10,000+</td>\n",
       "      <td>Free</td>\n",
       "      <td>0</td>\n",
       "      <td>Everyone</td>\n",
       "      <td>Art &amp; Design</td>\n",
       "      <td>January 7, 2018</td>\n",
       "      <td>1.0.0</td>\n",
       "      <td>4.0.3 and up</td>\n",
       "    </tr>\n",
       "    <tr>\n",
       "      <td>1</td>\n",
       "      <td>Coloring book moana</td>\n",
       "      <td>ART_AND_DESIGN</td>\n",
       "      <td>3.9</td>\n",
       "      <td>967</td>\n",
       "      <td>14M</td>\n",
       "      <td>500,000+</td>\n",
       "      <td>Free</td>\n",
       "      <td>0</td>\n",
       "      <td>Everyone</td>\n",
       "      <td>Art &amp; Design;Pretend Play</td>\n",
       "      <td>January 15, 2018</td>\n",
       "      <td>2.0.0</td>\n",
       "      <td>4.0.3 and up</td>\n",
       "    </tr>\n",
       "    <tr>\n",
       "      <td>2</td>\n",
       "      <td>U Launcher Lite – FREE Live Cool Themes, Hide ...</td>\n",
       "      <td>ART_AND_DESIGN</td>\n",
       "      <td>4.7</td>\n",
       "      <td>87510</td>\n",
       "      <td>8.7M</td>\n",
       "      <td>5,000,000+</td>\n",
       "      <td>Free</td>\n",
       "      <td>0</td>\n",
       "      <td>Everyone</td>\n",
       "      <td>Art &amp; Design</td>\n",
       "      <td>August 1, 2018</td>\n",
       "      <td>1.2.4</td>\n",
       "      <td>4.0.3 and up</td>\n",
       "    </tr>\n",
       "    <tr>\n",
       "      <td>3</td>\n",
       "      <td>Sketch - Draw &amp; Paint</td>\n",
       "      <td>ART_AND_DESIGN</td>\n",
       "      <td>4.5</td>\n",
       "      <td>215644</td>\n",
       "      <td>25M</td>\n",
       "      <td>50,000,000+</td>\n",
       "      <td>Free</td>\n",
       "      <td>0</td>\n",
       "      <td>Teen</td>\n",
       "      <td>Art &amp; Design</td>\n",
       "      <td>June 8, 2018</td>\n",
       "      <td>Varies with device</td>\n",
       "      <td>4.2 and up</td>\n",
       "    </tr>\n",
       "    <tr>\n",
       "      <td>4</td>\n",
       "      <td>Pixel Draw - Number Art Coloring Book</td>\n",
       "      <td>ART_AND_DESIGN</td>\n",
       "      <td>4.3</td>\n",
       "      <td>967</td>\n",
       "      <td>2.8M</td>\n",
       "      <td>100,000+</td>\n",
       "      <td>Free</td>\n",
       "      <td>0</td>\n",
       "      <td>Everyone</td>\n",
       "      <td>Art &amp; Design;Creativity</td>\n",
       "      <td>June 20, 2018</td>\n",
       "      <td>1.1</td>\n",
       "      <td>4.4 and up</td>\n",
       "    </tr>\n",
       "  </tbody>\n",
       "</table>\n",
       "</div>"
      ],
      "text/plain": [
       "                                                 App        Category  Rating  \\\n",
       "0     Photo Editor & Candy Camera & Grid & ScrapBook  ART_AND_DESIGN     4.1   \n",
       "1                                Coloring book moana  ART_AND_DESIGN     3.9   \n",
       "2  U Launcher Lite – FREE Live Cool Themes, Hide ...  ART_AND_DESIGN     4.7   \n",
       "3                              Sketch - Draw & Paint  ART_AND_DESIGN     4.5   \n",
       "4              Pixel Draw - Number Art Coloring Book  ART_AND_DESIGN     4.3   \n",
       "\n",
       "  Reviews  Size     Installs  Type Price Content Rating  \\\n",
       "0     159   19M      10,000+  Free     0       Everyone   \n",
       "1     967   14M     500,000+  Free     0       Everyone   \n",
       "2   87510  8.7M   5,000,000+  Free     0       Everyone   \n",
       "3  215644   25M  50,000,000+  Free     0           Teen   \n",
       "4     967  2.8M     100,000+  Free     0       Everyone   \n",
       "\n",
       "                      Genres      Last Updated         Current Ver  \\\n",
       "0               Art & Design   January 7, 2018               1.0.0   \n",
       "1  Art & Design;Pretend Play  January 15, 2018               2.0.0   \n",
       "2               Art & Design    August 1, 2018               1.2.4   \n",
       "3               Art & Design      June 8, 2018  Varies with device   \n",
       "4    Art & Design;Creativity     June 20, 2018                 1.1   \n",
       "\n",
       "    Android Ver  \n",
       "0  4.0.3 and up  \n",
       "1  4.0.3 and up  \n",
       "2  4.0.3 and up  \n",
       "3    4.2 and up  \n",
       "4    4.4 and up  "
      ]
     },
     "execution_count": 4,
     "metadata": {},
     "output_type": "execute_result"
    }
   ],
   "source": [
    "#Sondando os dados\n",
    "dataset.head()"
   ]
  },
  {
   "cell_type": "code",
   "execution_count": 5,
   "metadata": {},
   "outputs": [
    {
     "data": {
      "text/plain": [
       "App                object\n",
       "Category           object\n",
       "Rating            float64\n",
       "Reviews            object\n",
       "Size               object\n",
       "Installs           object\n",
       "Type               object\n",
       "Price              object\n",
       "Content Rating     object\n",
       "Genres             object\n",
       "Last Updated       object\n",
       "Current Ver        object\n",
       "Android Ver        object\n",
       "dtype: object"
      ]
     },
     "execution_count": 5,
     "metadata": {},
     "output_type": "execute_result"
    }
   ],
   "source": [
    "#Sondando os tipos de dados\n",
    "dataset.dtypes"
   ]
  },
  {
   "cell_type": "markdown",
   "metadata": {},
   "source": [
    "  _Como, a priori, estamos pensando em um modelo em que utilize regressão, logo precisaremos transformar quase todas a varáveis temos em numéricas. Além de precisar fazer um tratamento dos dados_"
   ]
  },
  {
   "cell_type": "markdown",
   "metadata": {},
   "source": [
    "# 2-Pré-processamento de dados:\n",
    "\n",
    "  _Após visualizar superficialmente os dados, vamos partir para a tratamento deles: Remover as colunas que não são interessantes a priori para a nosso modelo, remover espaços vazios e outros processos de limpeza_"
   ]
  },
  {
   "cell_type": "code",
   "execution_count": 6,
   "metadata": {},
   "outputs": [
    {
     "data": {
      "text/html": [
       "<div>\n",
       "<style scoped>\n",
       "    .dataframe tbody tr th:only-of-type {\n",
       "        vertical-align: middle;\n",
       "    }\n",
       "\n",
       "    .dataframe tbody tr th {\n",
       "        vertical-align: top;\n",
       "    }\n",
       "\n",
       "    .dataframe thead th {\n",
       "        text-align: right;\n",
       "    }\n",
       "</style>\n",
       "<table border=\"1\" class=\"dataframe\">\n",
       "  <thead>\n",
       "    <tr style=\"text-align: right;\">\n",
       "      <th></th>\n",
       "      <th>Category</th>\n",
       "      <th>Rating</th>\n",
       "      <th>Reviews</th>\n",
       "      <th>Installs</th>\n",
       "      <th>Price</th>\n",
       "      <th>Content Rating</th>\n",
       "    </tr>\n",
       "  </thead>\n",
       "  <tbody>\n",
       "    <tr>\n",
       "      <td>0</td>\n",
       "      <td>ART_AND_DESIGN</td>\n",
       "      <td>4.1</td>\n",
       "      <td>159</td>\n",
       "      <td>10,000+</td>\n",
       "      <td>0</td>\n",
       "      <td>Everyone</td>\n",
       "    </tr>\n",
       "    <tr>\n",
       "      <td>1</td>\n",
       "      <td>ART_AND_DESIGN</td>\n",
       "      <td>3.9</td>\n",
       "      <td>967</td>\n",
       "      <td>500,000+</td>\n",
       "      <td>0</td>\n",
       "      <td>Everyone</td>\n",
       "    </tr>\n",
       "    <tr>\n",
       "      <td>2</td>\n",
       "      <td>ART_AND_DESIGN</td>\n",
       "      <td>4.7</td>\n",
       "      <td>87510</td>\n",
       "      <td>5,000,000+</td>\n",
       "      <td>0</td>\n",
       "      <td>Everyone</td>\n",
       "    </tr>\n",
       "    <tr>\n",
       "      <td>3</td>\n",
       "      <td>ART_AND_DESIGN</td>\n",
       "      <td>4.5</td>\n",
       "      <td>215644</td>\n",
       "      <td>50,000,000+</td>\n",
       "      <td>0</td>\n",
       "      <td>Teen</td>\n",
       "    </tr>\n",
       "    <tr>\n",
       "      <td>4</td>\n",
       "      <td>ART_AND_DESIGN</td>\n",
       "      <td>4.3</td>\n",
       "      <td>967</td>\n",
       "      <td>100,000+</td>\n",
       "      <td>0</td>\n",
       "      <td>Everyone</td>\n",
       "    </tr>\n",
       "  </tbody>\n",
       "</table>\n",
       "</div>"
      ],
      "text/plain": [
       "         Category  Rating Reviews     Installs Price Content Rating\n",
       "0  ART_AND_DESIGN     4.1     159      10,000+     0       Everyone\n",
       "1  ART_AND_DESIGN     3.9     967     500,000+     0       Everyone\n",
       "2  ART_AND_DESIGN     4.7   87510   5,000,000+     0       Everyone\n",
       "3  ART_AND_DESIGN     4.5  215644  50,000,000+     0           Teen\n",
       "4  ART_AND_DESIGN     4.3     967     100,000+     0       Everyone"
      ]
     },
     "execution_count": 6,
     "metadata": {},
     "output_type": "execute_result"
    }
   ],
   "source": [
    "# O grupo entendeu que as colunas App, Size, Genres, Last Updated, Current Ver e Android Ver não são interessantes inicialmente para o modelo qu temos em mente\n",
    "data0 = dataset.drop(columns=['App', 'Size', 'Genres', 'Last Updated', 'Current Ver', 'Android Ver','Type'])\n",
    "data0.head()"
   ]
  },
  {
   "cell_type": "markdown",
   "metadata": {},
   "source": [
    "_É importantíssimo remover as linhas que possuem valores vazios para que não ocorra nenhum problema no momento de passar os dados pelo modelo de predição._"
   ]
  },
  {
   "cell_type": "code",
   "execution_count": 7,
   "metadata": {},
   "outputs": [
    {
     "data": {
      "text/html": [
       "<div>\n",
       "<style scoped>\n",
       "    .dataframe tbody tr th:only-of-type {\n",
       "        vertical-align: middle;\n",
       "    }\n",
       "\n",
       "    .dataframe tbody tr th {\n",
       "        vertical-align: top;\n",
       "    }\n",
       "\n",
       "    .dataframe thead th {\n",
       "        text-align: right;\n",
       "    }\n",
       "</style>\n",
       "<table border=\"1\" class=\"dataframe\">\n",
       "  <thead>\n",
       "    <tr style=\"text-align: right;\">\n",
       "      <th></th>\n",
       "      <th>Category</th>\n",
       "      <th>Rating</th>\n",
       "      <th>Reviews</th>\n",
       "      <th>Installs</th>\n",
       "      <th>Price</th>\n",
       "      <th>Content Rating</th>\n",
       "    </tr>\n",
       "  </thead>\n",
       "  <tbody>\n",
       "    <tr>\n",
       "      <td>0</td>\n",
       "      <td>ART_AND_DESIGN</td>\n",
       "      <td>4.1</td>\n",
       "      <td>159</td>\n",
       "      <td>10,000+</td>\n",
       "      <td>0</td>\n",
       "      <td>Everyone</td>\n",
       "    </tr>\n",
       "    <tr>\n",
       "      <td>1</td>\n",
       "      <td>ART_AND_DESIGN</td>\n",
       "      <td>3.9</td>\n",
       "      <td>967</td>\n",
       "      <td>500,000+</td>\n",
       "      <td>0</td>\n",
       "      <td>Everyone</td>\n",
       "    </tr>\n",
       "    <tr>\n",
       "      <td>2</td>\n",
       "      <td>ART_AND_DESIGN</td>\n",
       "      <td>4.7</td>\n",
       "      <td>87510</td>\n",
       "      <td>5,000,000+</td>\n",
       "      <td>0</td>\n",
       "      <td>Everyone</td>\n",
       "    </tr>\n",
       "    <tr>\n",
       "      <td>3</td>\n",
       "      <td>ART_AND_DESIGN</td>\n",
       "      <td>4.5</td>\n",
       "      <td>215644</td>\n",
       "      <td>50,000,000+</td>\n",
       "      <td>0</td>\n",
       "      <td>Teen</td>\n",
       "    </tr>\n",
       "    <tr>\n",
       "      <td>4</td>\n",
       "      <td>ART_AND_DESIGN</td>\n",
       "      <td>4.3</td>\n",
       "      <td>967</td>\n",
       "      <td>100,000+</td>\n",
       "      <td>0</td>\n",
       "      <td>Everyone</td>\n",
       "    </tr>\n",
       "  </tbody>\n",
       "</table>\n",
       "</div>"
      ],
      "text/plain": [
       "         Category  Rating Reviews     Installs Price Content Rating\n",
       "0  ART_AND_DESIGN     4.1     159      10,000+     0       Everyone\n",
       "1  ART_AND_DESIGN     3.9     967     500,000+     0       Everyone\n",
       "2  ART_AND_DESIGN     4.7   87510   5,000,000+     0       Everyone\n",
       "3  ART_AND_DESIGN     4.5  215644  50,000,000+     0           Teen\n",
       "4  ART_AND_DESIGN     4.3     967     100,000+     0       Everyone"
      ]
     },
     "execution_count": 7,
     "metadata": {},
     "output_type": "execute_result"
    }
   ],
   "source": [
    "#Estamos eliminando as linhas que possuem valores vazios\n",
    "data0 = data0.dropna()\n",
    "data0.head()"
   ]
  },
  {
   "cell_type": "code",
   "execution_count": 8,
   "metadata": {},
   "outputs": [
    {
     "name": "stdout",
     "output_type": "stream",
     "text": [
      "<class 'pandas.core.frame.DataFrame'>\n",
      "Int64Index: 9366 entries, 0 to 10840\n",
      "Data columns (total 6 columns):\n",
      "Category          9366 non-null object\n",
      "Rating            9366 non-null float64\n",
      "Reviews           9366 non-null object\n",
      "Installs          9366 non-null object\n",
      "Price             9366 non-null object\n",
      "Content Rating    9366 non-null object\n",
      "dtypes: float64(1), object(5)\n",
      "memory usage: 512.2+ KB\n"
     ]
    }
   ],
   "source": [
    "data0.info()"
   ]
  },
  {
   "cell_type": "markdown",
   "metadata": {},
   "source": [
    "_Uma vez retirado os valores nulos, vamos avaliar as frequências de cada variável, para assim entender como está o dataset e precisar os próximos passos de limpeza. Mas antes vamos tirar os cifões do coluna Price para e os \"+\" dos installs e transformar as variáveis Reviews, Installs e Price em númericas para poder aplicar as funções do Pandas_"
   ]
  },
  {
   "cell_type": "code",
   "execution_count": 17,
   "metadata": {},
   "outputs": [],
   "source": [
    "# Funções para tratar as colunas numéricas:\n",
    "\n",
    "#Definindo função que limpa\n",
    "def Price_clean(valor):\n",
    "    valor_str = str(valor)\n",
    "    return float(valor_str.replace('$', ''))\n",
    "\n",
    "#Definindo função que limpa e transforma em valor numérico\n",
    "def Installs_clean(valor):\n",
    "    valor_str = str(valor)\n",
    "    return int(valor_str.replace('+', '').replace(',',''))"
   ]
  },
  {
   "cell_type": "code",
   "execution_count": 18,
   "metadata": {},
   "outputs": [],
   "source": [
    "# Aplicando as funções definidas acima acima:\n",
    "data0.Price = data0.Price.astype(str).map(Price_clean)\n",
    "data0.Installs = data0.Installs.astype(str).map(Installs_clean)"
   ]
  },
  {
   "cell_type": "code",
   "execution_count": 21,
   "metadata": {},
   "outputs": [
    {
     "data": {
      "text/plain": [
       "Category           object\n",
       "Rating            float64\n",
       "Reviews           float64\n",
       "Installs          float64\n",
       "Price             float64\n",
       "Content Rating     object\n",
       "dtype: object"
      ]
     },
     "execution_count": 21,
     "metadata": {},
     "output_type": "execute_result"
    }
   ],
   "source": [
    "# Transformando todos os valores numéricos em float\n",
    "data0.Reviews = data0.Reviews.astype('float64')\n",
    "data0.Installs = data0.Installs.astype('float64')\n",
    "data0.Price = data0.Price.astype('float64')\n",
    "data0.dtypes"
   ]
  },
  {
   "cell_type": "code",
   "execution_count": 22,
   "metadata": {},
   "outputs": [
    {
     "data": {
      "text/plain": [
       "FAMILY                 1747\n",
       "GAME                   1097\n",
       "TOOLS                   734\n",
       "PRODUCTIVITY            351\n",
       "MEDICAL                 350\n",
       "COMMUNICATION           328\n",
       "FINANCE                 323\n",
       "SPORTS                  319\n",
       "PHOTOGRAPHY             317\n",
       "LIFESTYLE               314\n",
       "PERSONALIZATION         314\n",
       "BUSINESS                303\n",
       "HEALTH_AND_FITNESS      297\n",
       "SOCIAL                  259\n",
       "SHOPPING                238\n",
       "NEWS_AND_MAGAZINES      233\n",
       "TRAVEL_AND_LOCAL        226\n",
       "DATING                  195\n",
       "BOOKS_AND_REFERENCE     178\n",
       "VIDEO_PLAYERS           160\n",
       "EDUCATION               155\n",
       "ENTERTAINMENT           149\n",
       "MAPS_AND_NAVIGATION     124\n",
       "FOOD_AND_DRINK          109\n",
       "HOUSE_AND_HOME           76\n",
       "WEATHER                  75\n",
       "AUTO_AND_VEHICLES        73\n",
       "LIBRARIES_AND_DEMO       65\n",
       "ART_AND_DESIGN           62\n",
       "COMICS                   58\n",
       "PARENTING                50\n",
       "EVENTS                   45\n",
       "BEAUTY                   42\n",
       "Name: Category, dtype: int64"
      ]
     },
     "execution_count": 22,
     "metadata": {},
     "output_type": "execute_result"
    }
   ],
   "source": [
    "data0.Category.value_counts()"
   ]
  },
  {
   "cell_type": "code",
   "execution_count": 23,
   "metadata": {},
   "outputs": [
    {
     "data": {
      "text/plain": [
       "Everyone           7420\n",
       "Teen               1084\n",
       "Mature 17+          461\n",
       "Everyone 10+        397\n",
       "Adults only 18+       3\n",
       "Unrated               1\n",
       "Name: Content Rating, dtype: int64"
      ]
     },
     "execution_count": 23,
     "metadata": {},
     "output_type": "execute_result"
    }
   ],
   "source": [
    "data0['Content Rating'].value_counts()"
   ]
  },
  {
   "cell_type": "code",
   "execution_count": 24,
   "metadata": {},
   "outputs": [
    {
     "data": {
      "text/plain": [
       "count    9366.000000\n",
       "mean        4.191757\n",
       "std         0.515219\n",
       "min         1.000000\n",
       "25%         4.000000\n",
       "50%         4.300000\n",
       "75%         4.500000\n",
       "max         5.000000\n",
       "Name: Rating, dtype: float64"
      ]
     },
     "execution_count": 24,
     "metadata": {},
     "output_type": "execute_result"
    }
   ],
   "source": [
    "data0.Rating.describe()"
   ]
  },
  {
   "cell_type": "code",
   "execution_count": 25,
   "metadata": {},
   "outputs": [
    {
     "data": {
      "text/plain": [
       "count    9.366000e+03\n",
       "mean     5.140498e+05\n",
       "std      3.144042e+06\n",
       "min      1.000000e+00\n",
       "25%      1.862500e+02\n",
       "50%      5.930500e+03\n",
       "75%      8.153275e+04\n",
       "max      7.815831e+07\n",
       "Name: Reviews, dtype: float64"
      ]
     },
     "execution_count": 25,
     "metadata": {},
     "output_type": "execute_result"
    }
   ],
   "source": [
    "data0.Reviews.describe()"
   ]
  },
  {
   "cell_type": "code",
   "execution_count": 26,
   "metadata": {},
   "outputs": [
    {
     "data": {
      "text/plain": [
       "count    9366.000000\n",
       "mean        0.960928\n",
       "std        15.816585\n",
       "min         0.000000\n",
       "25%         0.000000\n",
       "50%         0.000000\n",
       "75%         0.000000\n",
       "max       400.000000\n",
       "Name: Price, dtype: float64"
      ]
     },
     "execution_count": 26,
     "metadata": {},
     "output_type": "execute_result"
    }
   ],
   "source": [
    "data0.Price.describe()"
   ]
  },
  {
   "cell_type": "code",
   "execution_count": 27,
   "metadata": {},
   "outputs": [
    {
     "data": {
      "text/plain": [
       "count    9.366000e+03\n",
       "mean     1.789744e+07\n",
       "std      9.123822e+07\n",
       "min      1.000000e+00\n",
       "25%      1.000000e+04\n",
       "50%      5.000000e+05\n",
       "75%      5.000000e+06\n",
       "max      1.000000e+09\n",
       "Name: Installs, dtype: float64"
      ]
     },
     "execution_count": 27,
     "metadata": {},
     "output_type": "execute_result"
    }
   ],
   "source": [
    "data0.Installs.describe()"
   ]
  },
  {
   "cell_type": "markdown",
   "metadata": {},
   "source": [
    "## 2.1- Decisões sobre o dataset:\n",
    "    \n",
    "   Após entendermos mais os dados decidimos tomas as seguintes decisões:\n",
    "   \n",
    "   * Retirar todas as linhas que possuem \"Adults only 18+\" como característica da feature Content Rating, uma vez que só possuem 3 linhas em que ele aparece, sendo assim, um outlier para o nosso modelo;\n",
    "   \n",
    "   * Retirar todas as linhas que possuem \"Unrated\" como característica da feature Content Rating, uma vez que só possui uma linha em que ele aparece, sendo assim, um outlier para o nosso modelo."
   ]
  },
  {
   "cell_type": "code",
   "execution_count": 16,
   "metadata": {},
   "outputs": [
    {
     "data": {
      "text/plain": [
       "Everyone        7420\n",
       "Teen            1084\n",
       "Mature 17+       461\n",
       "Everyone 10+     397\n",
       "Name: Content Rating, dtype: int64"
      ]
     },
     "execution_count": 16,
     "metadata": {},
     "output_type": "execute_result"
    }
   ],
   "source": [
    "data0 = data0.loc[data0['Content Rating'] != 'Adults only 18+', :]\n",
    "data0 = data0.loc[data0['Content Rating'] != 'Unrated', :]\n",
    "data0['Content Rating'].value_counts()"
   ]
  },
  {
   "cell_type": "markdown",
   "metadata": {},
   "source": [
    "## 2.2- Dados tratados para fazer uma análise mais aprofundada:\n",
    "\n",
    "   A partir desse ponto, já possuimos dados mais parecidos com o que usaremos no nosso modelo. Ess etapa inicial, consistiu em descartar dados que não são importantes para o modelo e para a análise exploratório e fazer a correção de dados necessária para a maior robustez do modelo e análise exploratória.\n",
    "   \n",
    "   * Váriavél Target:Rating\n",
    "   * Features: Category, Reviews, Installs, Price e Content Rating.\n",
    "   \n",
    "   * Tipagem das features:\n",
    "   \n",
    "       * quantititvas: Reviews, Installs e Price.\n",
    "       \n",
    "       * qualitativas:  Category e Content Rating."
   ]
  },
  {
   "cell_type": "code",
   "execution_count": 17,
   "metadata": {},
   "outputs": [
    {
     "data": {
      "text/html": [
       "<div>\n",
       "<style scoped>\n",
       "    .dataframe tbody tr th:only-of-type {\n",
       "        vertical-align: middle;\n",
       "    }\n",
       "\n",
       "    .dataframe tbody tr th {\n",
       "        vertical-align: top;\n",
       "    }\n",
       "\n",
       "    .dataframe thead th {\n",
       "        text-align: right;\n",
       "    }\n",
       "</style>\n",
       "<table border=\"1\" class=\"dataframe\">\n",
       "  <thead>\n",
       "    <tr style=\"text-align: right;\">\n",
       "      <th></th>\n",
       "      <th>Category</th>\n",
       "      <th>Rating</th>\n",
       "      <th>Reviews</th>\n",
       "      <th>Installs</th>\n",
       "      <th>Price</th>\n",
       "      <th>Content Rating</th>\n",
       "    </tr>\n",
       "  </thead>\n",
       "  <tbody>\n",
       "    <tr>\n",
       "      <th>0</th>\n",
       "      <td>ART_AND_DESIGN</td>\n",
       "      <td>4.1</td>\n",
       "      <td>159</td>\n",
       "      <td>10000</td>\n",
       "      <td>0.0</td>\n",
       "      <td>Everyone</td>\n",
       "    </tr>\n",
       "    <tr>\n",
       "      <th>1</th>\n",
       "      <td>ART_AND_DESIGN</td>\n",
       "      <td>3.9</td>\n",
       "      <td>967</td>\n",
       "      <td>500000</td>\n",
       "      <td>0.0</td>\n",
       "      <td>Everyone</td>\n",
       "    </tr>\n",
       "    <tr>\n",
       "      <th>2</th>\n",
       "      <td>ART_AND_DESIGN</td>\n",
       "      <td>4.7</td>\n",
       "      <td>87510</td>\n",
       "      <td>5000000</td>\n",
       "      <td>0.0</td>\n",
       "      <td>Everyone</td>\n",
       "    </tr>\n",
       "    <tr>\n",
       "      <th>3</th>\n",
       "      <td>ART_AND_DESIGN</td>\n",
       "      <td>4.5</td>\n",
       "      <td>215644</td>\n",
       "      <td>50000000</td>\n",
       "      <td>0.0</td>\n",
       "      <td>Teen</td>\n",
       "    </tr>\n",
       "    <tr>\n",
       "      <th>4</th>\n",
       "      <td>ART_AND_DESIGN</td>\n",
       "      <td>4.3</td>\n",
       "      <td>967</td>\n",
       "      <td>100000</td>\n",
       "      <td>0.0</td>\n",
       "      <td>Everyone</td>\n",
       "    </tr>\n",
       "  </tbody>\n",
       "</table>\n",
       "</div>"
      ],
      "text/plain": [
       "         Category  Rating Reviews  Installs  Price Content Rating\n",
       "0  ART_AND_DESIGN     4.1     159     10000    0.0       Everyone\n",
       "1  ART_AND_DESIGN     3.9     967    500000    0.0       Everyone\n",
       "2  ART_AND_DESIGN     4.7   87510   5000000    0.0       Everyone\n",
       "3  ART_AND_DESIGN     4.5  215644  50000000    0.0           Teen\n",
       "4  ART_AND_DESIGN     4.3     967    100000    0.0       Everyone"
      ]
     },
     "execution_count": 17,
     "metadata": {},
     "output_type": "execute_result"
    }
   ],
   "source": [
    "data0.head()"
   ]
  },
  {
   "cell_type": "code",
   "execution_count": 28,
   "metadata": {},
   "outputs": [
    {
     "data": {
      "text/plain": [
       "Category           object\n",
       "Rating            float64\n",
       "Reviews           float64\n",
       "Installs          float64\n",
       "Price             float64\n",
       "Content Rating     object\n",
       "dtype: object"
      ]
     },
     "execution_count": 28,
     "metadata": {},
     "output_type": "execute_result"
    }
   ],
   "source": [
    "data0.dtypes"
   ]
  },
  {
   "cell_type": "markdown",
   "metadata": {},
   "source": [
    "# 3- Analise exploratória do dataset:\n",
    "   _Como o nosso dataset possui tanto variáveis qualitativas quanto quantitivas então separaremos as análises que cabem a cada tipode variável._"
   ]
  },
  {
   "cell_type": "markdown",
   "metadata": {},
   "source": [
    "## 3.1 - Análise das variáveis quantitativas:"
   ]
  },
  {
   "cell_type": "code",
   "execution_count": 29,
   "metadata": {},
   "outputs": [
    {
     "data": {
      "text/html": [
       "<div>\n",
       "<style scoped>\n",
       "    .dataframe tbody tr th:only-of-type {\n",
       "        vertical-align: middle;\n",
       "    }\n",
       "\n",
       "    .dataframe tbody tr th {\n",
       "        vertical-align: top;\n",
       "    }\n",
       "\n",
       "    .dataframe thead th {\n",
       "        text-align: right;\n",
       "    }\n",
       "</style>\n",
       "<table border=\"1\" class=\"dataframe\">\n",
       "  <thead>\n",
       "    <tr style=\"text-align: right;\">\n",
       "      <th></th>\n",
       "      <th>Rating</th>\n",
       "      <th>Reviews</th>\n",
       "      <th>Installs</th>\n",
       "      <th>Price</th>\n",
       "    </tr>\n",
       "  </thead>\n",
       "  <tbody>\n",
       "    <tr>\n",
       "      <td>count</td>\n",
       "      <td>9366.000000</td>\n",
       "      <td>9.366000e+03</td>\n",
       "      <td>9.366000e+03</td>\n",
       "      <td>9366.000000</td>\n",
       "    </tr>\n",
       "    <tr>\n",
       "      <td>mean</td>\n",
       "      <td>4.191757</td>\n",
       "      <td>5.140498e+05</td>\n",
       "      <td>1.789744e+07</td>\n",
       "      <td>0.960928</td>\n",
       "    </tr>\n",
       "    <tr>\n",
       "      <td>std</td>\n",
       "      <td>0.515219</td>\n",
       "      <td>3.144042e+06</td>\n",
       "      <td>9.123822e+07</td>\n",
       "      <td>15.816585</td>\n",
       "    </tr>\n",
       "    <tr>\n",
       "      <td>min</td>\n",
       "      <td>1.000000</td>\n",
       "      <td>1.000000e+00</td>\n",
       "      <td>1.000000e+00</td>\n",
       "      <td>0.000000</td>\n",
       "    </tr>\n",
       "    <tr>\n",
       "      <td>25%</td>\n",
       "      <td>4.000000</td>\n",
       "      <td>1.862500e+02</td>\n",
       "      <td>1.000000e+04</td>\n",
       "      <td>0.000000</td>\n",
       "    </tr>\n",
       "    <tr>\n",
       "      <td>50%</td>\n",
       "      <td>4.300000</td>\n",
       "      <td>5.930500e+03</td>\n",
       "      <td>5.000000e+05</td>\n",
       "      <td>0.000000</td>\n",
       "    </tr>\n",
       "    <tr>\n",
       "      <td>75%</td>\n",
       "      <td>4.500000</td>\n",
       "      <td>8.153275e+04</td>\n",
       "      <td>5.000000e+06</td>\n",
       "      <td>0.000000</td>\n",
       "    </tr>\n",
       "    <tr>\n",
       "      <td>max</td>\n",
       "      <td>5.000000</td>\n",
       "      <td>7.815831e+07</td>\n",
       "      <td>1.000000e+09</td>\n",
       "      <td>400.000000</td>\n",
       "    </tr>\n",
       "  </tbody>\n",
       "</table>\n",
       "</div>"
      ],
      "text/plain": [
       "            Rating       Reviews      Installs        Price\n",
       "count  9366.000000  9.366000e+03  9.366000e+03  9366.000000\n",
       "mean      4.191757  5.140498e+05  1.789744e+07     0.960928\n",
       "std       0.515219  3.144042e+06  9.123822e+07    15.816585\n",
       "min       1.000000  1.000000e+00  1.000000e+00     0.000000\n",
       "25%       4.000000  1.862500e+02  1.000000e+04     0.000000\n",
       "50%       4.300000  5.930500e+03  5.000000e+05     0.000000\n",
       "75%       4.500000  8.153275e+04  5.000000e+06     0.000000\n",
       "max       5.000000  7.815831e+07  1.000000e+09   400.000000"
      ]
     },
     "execution_count": 29,
     "metadata": {},
     "output_type": "execute_result"
    }
   ],
   "source": [
    "#Entendendo as medidas das variáveis numéricas.\n",
    "data0.describe()"
   ]
  },
  {
   "cell_type": "code",
   "execution_count": 30,
   "metadata": {},
   "outputs": [
    {
     "data": {
      "image/png": "[encoded data removed]",
      "text/plain": [
       "<Figure size 432x288 with 1 Axes>"
      ]
     },
     "metadata": {
      "needs_background": "light"
     },
     "output_type": "display_data"
    }
   ],
   "source": [
    "#Sondado a distribuição de Rating\n",
    "plt.hist(data0.Rating,bins=42,edgecolor='white')\n",
    "plt.title(\"Histograma dos ratings\")\n",
    "plt.xlabel(\"Rating\")\n",
    "plt.ylabel(\"Frequência\")\n",
    "plt.show()"
   ]
  },
  {
   "cell_type": "code",
   "execution_count": 31,
   "metadata": {},
   "outputs": [
    {
     "data": {
      "image/png": "[encoded data removed]",
      "text/plain": [
       "<Figure size 432x288 with 1 Axes>"
      ]
     },
     "metadata": {
      "needs_background": "light"
     },
     "output_type": "display_data"
    }
   ],
   "source": [
    "# O modelo aparenta ser uma distribuição normal, para isso verificaremos:\n",
    "stats.probplot(data0.Rating,dist=\"norm\",plot=plt)\n",
    "plt.show()"
   ]
  },
  {
   "cell_type": "markdown",
   "metadata": {},
   "source": [
    "_Com esse gráfico constatamos que a distribuição não é normal, e portanto nossa suposição estava errada_"
   ]
  },
  {
   "cell_type": "code",
   "execution_count": 33,
   "metadata": {},
   "outputs": [
    {
     "data": {
      "text/plain": [
       "count    9366.000000\n",
       "mean        4.191757\n",
       "std         0.515219\n",
       "min         1.000000\n",
       "25%         4.000000\n",
       "50%         4.300000\n",
       "75%         4.500000\n",
       "max         5.000000\n",
       "Name: Rating, dtype: float64"
      ]
     },
     "execution_count": 33,
     "metadata": {},
     "output_type": "execute_result"
    }
   ],
   "source": [
    "data0.Rating.describe()"
   ]
  },
  {
   "cell_type": "markdown",
   "metadata": {},
   "source": [
    "_Aqui, podemos perceber que o valor de Rating mais frequente é de 4.4, seguido de suas vizinhanças. Quanto mais distante desse valor, menor é a frequência._"
   ]
  },
  {
   "cell_type": "code",
   "execution_count": 34,
   "metadata": {},
   "outputs": [
    {
     "data": {
      "image/png": "[encoded data removed]",
      "text/plain": [
       "<Figure size 1440x720 with 2 Axes>"
      ]
     },
     "metadata": {
      "needs_background": "light"
     },
     "output_type": "display_data"
    }
   ],
   "source": [
    "#Sondado a distribuição de Reviews\n",
    "plt.figure(figsize=(20, 10))\n",
    "\n",
    "plt.subplot(221)\n",
    "plt.hist(data0.Reviews,bins=42,edgecolor='white')\n",
    "plt.title(\"Histograma dos reviews\")\n",
    "plt.xlabel(\"Reviews\")\n",
    "plt.ylabel(\"Frequência\")\n",
    "\n",
    "plt.subplot(223)\n",
    "plt.hist(data0.Reviews,bins=42,edgecolor='white', range=[0, 1e3])\n",
    "plt.title(\"Histograma dos reviews\")\n",
    "plt.xlabel(\"Reviews\")\n",
    "plt.ylabel(\"Frequência\")\n",
    "plt.show()"
   ]
  },
  {
   "cell_type": "markdown",
   "metadata": {},
   "source": [
    "_Observando o primeiro gráfico, percebemos que Review está concentrado na vizinhança de um valor. Porém, reduzindo o intervalo analisado, notamos que os valores seguem alguma distribuição. Para verificar a situação, vamos analisar frequencia numericamente_"
   ]
  },
  {
   "cell_type": "code",
   "execution_count": 35,
   "metadata": {},
   "outputs": [
    {
     "data": {
      "text/plain": [
       "count    9.366000e+03\n",
       "mean     5.140498e+05\n",
       "std      3.144042e+06\n",
       "min      1.000000e+00\n",
       "25%      1.862500e+02\n",
       "50%      5.930500e+03\n",
       "75%      8.153275e+04\n",
       "max      7.815831e+07\n",
       "Name: Reviews, dtype: float64"
      ]
     },
     "execution_count": 35,
     "metadata": {},
     "output_type": "execute_result"
    }
   ],
   "source": [
    "#Verificando o valor \n",
    "data0.Reviews.describe()"
   ]
  },
  {
   "cell_type": "markdown",
   "metadata": {},
   "source": [
    "_Os reviews não estão concentrados em um valor, mas sim em um intervalo_"
   ]
  },
  {
   "cell_type": "code",
   "execution_count": 36,
   "metadata": {},
   "outputs": [
    {
     "data": {
      "image/png": "[encoded data removed]",
      "text/plain": [
       "<Figure size 1440x720 with 2 Axes>"
      ]
     },
     "metadata": {
      "needs_background": "light"
     },
     "output_type": "display_data"
    }
   ],
   "source": [
    "#Sondado a distribuição de Installs\n",
    "plt.figure(figsize=(20, 10))\n",
    "\n",
    "plt.subplot(221)\n",
    "plt.hist(data0.Installs,bins=42,edgecolor='white', range=[0, 1e9])\n",
    "plt.title(\"Histograma dos installs\")\n",
    "plt.xlabel(\"Installs\")\n",
    "plt.ylabel(\"Frequência\")\n",
    "\n",
    "plt.subplot(223)\n",
    "plt.hist(data0.Installs,bins=42,edgecolor='white', range=[0, 1e6])\n",
    "plt.title(\"Histograma dos installs\")\n",
    "plt.xlabel(\"Installs\")\n",
    "plt.ylabel(\"Frequência\")\n",
    "plt.show()"
   ]
  },
  {
   "cell_type": "markdown",
   "metadata": {},
   "source": [
    "_Amalisando o primeiro histograma, verificamos que a variável install se concentra na vizinhança de um valor. Porém, considerando um intervalo menor dos valores (de 0 a 1 000 000), percebemos que os dados estão distribuídos de forma inconclusiva. Vamos tentar entender isso, verificando os valores numericamente_"
   ]
  },
  {
   "cell_type": "code",
   "execution_count": 37,
   "metadata": {},
   "outputs": [
    {
     "data": {
      "text/plain": [
       "count    9.366000e+03\n",
       "mean     1.789744e+07\n",
       "std      9.123822e+07\n",
       "min      1.000000e+00\n",
       "25%      1.000000e+04\n",
       "50%      5.000000e+05\n",
       "75%      5.000000e+06\n",
       "max      1.000000e+09\n",
       "Name: Installs, dtype: float64"
      ]
     },
     "execution_count": 37,
     "metadata": {},
     "output_type": "execute_result"
    }
   ],
   "source": [
    "#Sondando a situação\n",
    "data0.Installs.describe()"
   ]
  },
  {
   "cell_type": "markdown",
   "metadata": {},
   "source": [
    "_A quantidade de installs mais frequente dos aplicativos é da orderm de 10^3._"
   ]
  },
  {
   "cell_type": "code",
   "execution_count": 38,
   "metadata": {},
   "outputs": [
    {
     "data": {
      "image/png": "[encoded data removed]",
      "text/plain": [
       "<Figure size 1440x720 with 2 Axes>"
      ]
     },
     "metadata": {
      "needs_background": "light"
     },
     "output_type": "display_data"
    }
   ],
   "source": [
    "#Sondado a distribuição de Price\n",
    "plt.figure(figsize=(20, 10))\n",
    "\n",
    "plt.subplot(221)\n",
    "plt.hist(data0.Price,bins=62,edgecolor='white')\n",
    "plt.title(\"Histograma dos prices\")\n",
    "plt.xlabel(\"Price\")\n",
    "plt.ylabel(\"Frequência\")\n",
    "\n",
    "plt.subplot(223)\n",
    "plt.hist(data0.Price,bins=62,edgecolor='white', range=[0, 10])\n",
    "plt.title(\"Histograma dos prices\")\n",
    "plt.xlabel(\"Price\")\n",
    "plt.ylabel(\"Frequência\")\n",
    "\n",
    "plt.show()"
   ]
  },
  {
   "cell_type": "markdown",
   "metadata": {},
   "source": [
    "_Assim como o Install, o Price se concentra na vizinhança de um valor, que neste caso seria o zero. Com isso, podemos supor que a grande maioria dos apps são gratuitos. Para verificar tal suposição, verificamos a frequência dessa variável numricamente_"
   ]
  },
  {
   "cell_type": "code",
   "execution_count": 39,
   "metadata": {},
   "outputs": [
    {
     "data": {
      "text/plain": [
       "count    9366.000000\n",
       "mean        0.960928\n",
       "std        15.816585\n",
       "min         0.000000\n",
       "25%         0.000000\n",
       "50%         0.000000\n",
       "75%         0.000000\n",
       "max       400.000000\n",
       "Name: Price, dtype: float64"
      ]
     },
     "execution_count": 39,
     "metadata": {},
     "output_type": "execute_result"
    }
   ],
   "source": [
    "#Verificando a suposiçaõ anterior:\n",
    "data0.Price.describe()"
   ]
  },
  {
   "cell_type": "code",
   "execution_count": 46,
   "metadata": {},
   "outputs": [
    {
     "name": "stdout",
     "output_type": "stream",
     "text": [
      "Porcentagem de apps gratuitos é de : 93.09203502028615%\n"
     ]
    }
   ],
   "source": [
    "porcentagem = len(data0.loc[data0.Price==0,:])/len(data0)\n",
    "print(\"Porcentagem de apps gratuitos é de : {}%\".format(porcentagem*100))"
   ]
  },
  {
   "cell_type": "markdown",
   "metadata": {},
   "source": [
    "_Com isso, confirmarmos a hipótese que grande parte dos aplicativos são gratuitos, já que 93% deles são Free_"
   ]
  },
  {
   "cell_type": "code",
   "execution_count": 47,
   "metadata": {},
   "outputs": [
    {
     "data": {
      "image/png": "[encoded data removed]",
      "text/plain": [
       "<Figure size 720x720 with 4 Axes>"
      ]
     },
     "metadata": {
      "needs_background": "light"
     },
     "output_type": "display_data"
    }
   ],
   "source": [
    "#Juntando os gráficos\n",
    "plt.figure(figsize=(10, 10))\n",
    "\n",
    "plt.subplot(221)\n",
    "plt.hist(data0.Rating,bins=42,edgecolor='white',color='blue')\n",
    "plt.title(\"Histograma dos ratings\")\n",
    "plt.xlabel(\"Rating\")\n",
    "plt.ylabel(\"Frequência\")\n",
    "\n",
    "plt.subplot(222)\n",
    "plt.hist(data0.Price,bins=42,edgecolor='white',color='brown')\n",
    "plt.title(\"Histograma dos reviews\")\n",
    "plt.xlabel(\"Reviews\")\n",
    "plt.ylabel(\"Frequência\")\n",
    "\n",
    "plt.subplot(223)\n",
    "plt.hist(data0.Price,bins=42,edgecolor='white', color='red')\n",
    "plt.title(\"Histograma dos prices\")\n",
    "plt.xlabel(\"Rating\")\n",
    "plt.ylabel(\"Frequência\")\n",
    "\n",
    "plt.subplot(224)\n",
    "plt.hist(data0.Installs,bins=42,edgecolor='white', color='black')\n",
    "plt.title(\"Histograma dos installs\")\n",
    "plt.xlabel(\"Rating\")\n",
    "plt.ylabel(\"Frequência\")\n",
    "\n",
    "plt.show()"
   ]
  },
  {
   "cell_type": "markdown",
   "metadata": {},
   "source": [
    "## _Para entendermos ainda melhor essas 4 variáveis quantitavas, vamos plotar mais alguns gráficos:_\n",
    "   _Assim podemos entender, por exemplo, a questão dos outliers._"
   ]
  },
  {
   "cell_type": "code",
   "execution_count": 48,
   "metadata": {},
   "outputs": [
    {
     "data": {
      "image/png": "[encoded data removed]",
      "text/plain": [
       "<Figure size 432x288 with 1 Axes>"
      ]
     },
     "metadata": {
      "needs_background": "light"
     },
     "output_type": "display_data"
    }
   ],
   "source": [
    "data0.boxplot(column='Rating');"
   ]
  },
  {
   "cell_type": "code",
   "execution_count": 49,
   "metadata": {},
   "outputs": [
    {
     "data": {
      "image/png": "[encoded data removed]",
      "text/plain": [
       "<Figure size 432x288 with 1 Axes>"
      ]
     },
     "metadata": {
      "needs_background": "light"
     },
     "output_type": "display_data"
    }
   ],
   "source": [
    "data0.boxplot(column='Reviews');"
   ]
  },
  {
   "cell_type": "code",
   "execution_count": 50,
   "metadata": {},
   "outputs": [
    {
     "data": {
      "image/png": "[encoded data removed]",
      "text/plain": [
       "<Figure size 432x288 with 1 Axes>"
      ]
     },
     "metadata": {
      "needs_background": "light"
     },
     "output_type": "display_data"
    }
   ],
   "source": [
    "data0.boxplot(column='Price');"
   ]
  },
  {
   "cell_type": "code",
   "execution_count": 51,
   "metadata": {},
   "outputs": [
    {
     "data": {
      "image/png": "[encoded data removed]",
      "text/plain": [
       "<Figure size 432x288 with 1 Axes>"
      ]
     },
     "metadata": {
      "needs_background": "light"
     },
     "output_type": "display_data"
    }
   ],
   "source": [
    "data0.boxplot(column='Installs');"
   ]
  },
  {
   "cell_type": "markdown",
   "metadata": {},
   "source": [
    "_E para terminar a análise das variáveis quantitativas, vamos verificar a correlação entre elas:_"
   ]
  },
  {
   "cell_type": "code",
   "execution_count": 53,
   "metadata": {},
   "outputs": [
    {
     "data": {
      "text/html": [
       "<div>\n",
       "<style scoped>\n",
       "    .dataframe tbody tr th:only-of-type {\n",
       "        vertical-align: middle;\n",
       "    }\n",
       "\n",
       "    .dataframe tbody tr th {\n",
       "        vertical-align: top;\n",
       "    }\n",
       "\n",
       "    .dataframe thead th {\n",
       "        text-align: right;\n",
       "    }\n",
       "</style>\n",
       "<table border=\"1\" class=\"dataframe\">\n",
       "  <thead>\n",
       "    <tr style=\"text-align: right;\">\n",
       "      <th></th>\n",
       "      <th>Rating</th>\n",
       "      <th>Reviews</th>\n",
       "      <th>Installs</th>\n",
       "      <th>Price</th>\n",
       "    </tr>\n",
       "  </thead>\n",
       "  <tbody>\n",
       "    <tr>\n",
       "      <td>Rating</td>\n",
       "      <td>1.000000</td>\n",
       "      <td>0.068141</td>\n",
       "      <td>0.051355</td>\n",
       "      <td>-0.021903</td>\n",
       "    </tr>\n",
       "    <tr>\n",
       "      <td>Reviews</td>\n",
       "      <td>0.068141</td>\n",
       "      <td>1.000000</td>\n",
       "      <td>0.641612</td>\n",
       "      <td>-0.009820</td>\n",
       "    </tr>\n",
       "    <tr>\n",
       "      <td>Installs</td>\n",
       "      <td>0.051355</td>\n",
       "      <td>0.641612</td>\n",
       "      <td>1.000000</td>\n",
       "      <td>-0.011890</td>\n",
       "    </tr>\n",
       "    <tr>\n",
       "      <td>Price</td>\n",
       "      <td>-0.021903</td>\n",
       "      <td>-0.009820</td>\n",
       "      <td>-0.011890</td>\n",
       "      <td>1.000000</td>\n",
       "    </tr>\n",
       "  </tbody>\n",
       "</table>\n",
       "</div>"
      ],
      "text/plain": [
       "            Rating   Reviews  Installs     Price\n",
       "Rating    1.000000  0.068141  0.051355 -0.021903\n",
       "Reviews   0.068141  1.000000  0.641612 -0.009820\n",
       "Installs  0.051355  0.641612  1.000000 -0.011890\n",
       "Price    -0.021903 -0.009820 -0.011890  1.000000"
      ]
     },
     "execution_count": 53,
     "metadata": {},
     "output_type": "execute_result"
    }
   ],
   "source": [
    "#Verificando entre as variáveis quantitativas\n",
    "correl = pd.DataFrame.corr(data0)\n",
    "correl"
   ]
  },
  {
   "cell_type": "code",
   "execution_count": 54,
   "metadata": {},
   "outputs": [
    {
     "data": {
      "image/png": "[encoded data removed]",
      "text/plain": [
       "<Figure size 432x288 with 2 Axes>"
      ]
     },
     "metadata": {
      "needs_background": "light"
     },
     "output_type": "display_data"
    }
   ],
   "source": [
    "#Verificando entre as variáveis quantitativas gráficamente\n",
    "sns.heatmap(correl);"
   ]
  },
  {
   "cell_type": "code",
   "execution_count": 55,
   "metadata": {},
   "outputs": [
    {
     "data": {
      "image/png": "[encoded data removed]",
      "text/plain": [
       "<Figure size 720x720 with 20 Axes>"
      ]
     },
     "metadata": {
      "needs_background": "light"
     },
     "output_type": "display_data"
    }
   ],
   "source": [
    "# Verificando Graficamente:\n",
    "sns.pairplot(data0);"
   ]
  },
  {
   "cell_type": "markdown",
   "metadata": {},
   "source": [
    "## 3.2- Conclusões a respeito da análise exploratória das variáveis quantitivas:\n",
    "\n",
    "   O que se percebe é que a nossa variável target não é muito bem explicada pelas variáveis quantitaivas, o que pode ser ruim para o modelo mais a frente, já que a baixa correlação entre as features e o target pode resultar num modelo que não é eficiente e que não preve o que ele foi criado para prever. Nos resta entender como as variáveis qualitativas se correlacionam com a variável Target."
   ]
  },
  {
   "cell_type": "markdown",
   "metadata": {},
   "source": [
    "## 3.3-Análise exploratória: entendendo os dados qualitativos\n",
    "   _Agora analisaremos as váriaveis qualitativas: Category e Content Rating_ "
   ]
  },
  {
   "cell_type": "code",
   "execution_count": 37,
   "metadata": {},
   "outputs": [
    {
     "data": {
      "text/plain": [
       "FAMILY                 1747\n",
       "GAME                   1097\n",
       "TOOLS                   733\n",
       "PRODUCTIVITY            351\n",
       "MEDICAL                 350\n",
       "COMMUNICATION           328\n",
       "FINANCE                 323\n",
       "SPORTS                  318\n",
       "PHOTOGRAPHY             317\n",
       "PERSONALIZATION         314\n",
       "LIFESTYLE               314\n",
       "BUSINESS                303\n",
       "HEALTH_AND_FITNESS      297\n",
       "SOCIAL                  259\n",
       "SHOPPING                238\n",
       "NEWS_AND_MAGAZINES      233\n",
       "TRAVEL_AND_LOCAL        226\n",
       "DATING                  195\n",
       "BOOKS_AND_REFERENCE     178\n",
       "VIDEO_PLAYERS           160\n",
       "EDUCATION               155\n",
       "ENTERTAINMENT           149\n",
       "MAPS_AND_NAVIGATION     124\n",
       "FOOD_AND_DRINK          109\n",
       "HOUSE_AND_HOME           76\n",
       "WEATHER                  75\n",
       "AUTO_AND_VEHICLES        73\n",
       "LIBRARIES_AND_DEMO       65\n",
       "ART_AND_DESIGN           62\n",
       "COMICS                   56\n",
       "PARENTING                50\n",
       "EVENTS                   45\n",
       "BEAUTY                   42\n",
       "Name: Category, dtype: int64"
      ]
     },
     "execution_count": 37,
     "metadata": {},
     "output_type": "execute_result"
    }
   ],
   "source": [
    "#Verificando a frequência de cada classe de Category:\n",
    "data0.Category.value_counts()"
   ]
  },
  {
   "cell_type": "code",
   "execution_count": 38,
   "metadata": {},
   "outputs": [
    {
     "data": {
      "text/plain": [
       "Everyone        7420\n",
       "Teen            1084\n",
       "Mature 17+       461\n",
       "Everyone 10+     397\n",
       "Name: Content Rating, dtype: int64"
      ]
     },
     "execution_count": 38,
     "metadata": {},
     "output_type": "execute_result"
    }
   ],
   "source": [
    "#Verificando a frequência de cada classe de Content Rating:\n",
    "data0['Content Rating'].value_counts()"
   ]
  },
  {
   "cell_type": "code",
   "execution_count": 39,
   "metadata": {},
   "outputs": [
    {
     "data": {
      "image/png": "[encoded data removed]",
      "text/plain": [
       "<Figure size 2880x2880 with 1 Axes>"
      ]
     },
     "metadata": {
      "needs_background": "light"
     },
     "output_type": "display_data"
    }
   ],
   "source": [
    "#Verificando a frequência de cada classe de Category graficamente\n",
    "plt.figure(figsize=(40, 40))\n",
    "sns.countplot(data0.Category);"
   ]
  },
  {
   "cell_type": "code",
   "execution_count": 40,
   "metadata": {},
   "outputs": [
    {
     "data": {
      "image/png": "[encoded data removed]",
      "text/plain": [
       "<Figure size 432x288 with 1 Axes>"
      ]
     },
     "metadata": {
      "needs_background": "light"
     },
     "output_type": "display_data"
    }
   ],
   "source": [
    "#Verificando a frequência de cada classe de Content Rating graficamente\n",
    "sns.countplot(data0['Content Rating']);"
   ]
  },
  {
   "cell_type": "code",
   "execution_count": 41,
   "metadata": {},
   "outputs": [
    {
     "name": "stdout",
     "output_type": "stream",
     "text": [
      "Este dataset possui 9362 linhas e 56 colunas\n"
     ]
    }
   ],
   "source": [
    "#Vamos transformar as variáveis catégoricas em dummies:\n",
    "df_d = pd.get_dummies(data0, columns=['Category','Content Rating','Installs'], drop_first=True)\n",
    "print('Este dataset possui {} linhas e {} colunas'.format(df_d.shape[0],df_d.shape[1]))"
   ]
  },
  {
   "cell_type": "code",
   "execution_count": 43,
   "metadata": {},
   "outputs": [],
   "source": [
    "#vamos transformar as variáveis categóricas em quantitativas ordinais\n",
    "#df_o = sklearn.preprocessing."
   ]
  },
  {
   "cell_type": "code",
   "execution_count": 44,
   "metadata": {},
   "outputs": [
    {
     "data": {
      "text/html": [
       "<div>\n",
       "<style scoped>\n",
       "    .dataframe tbody tr th:only-of-type {\n",
       "        vertical-align: middle;\n",
       "    }\n",
       "\n",
       "    .dataframe tbody tr th {\n",
       "        vertical-align: top;\n",
       "    }\n",
       "\n",
       "    .dataframe thead th {\n",
       "        text-align: right;\n",
       "    }\n",
       "</style>\n",
       "<table border=\"1\" class=\"dataframe\">\n",
       "  <thead>\n",
       "    <tr style=\"text-align: right;\">\n",
       "      <th></th>\n",
       "      <th>Rating</th>\n",
       "      <th>Reviews</th>\n",
       "      <th>Price</th>\n",
       "      <th>Category_AUTO_AND_VEHICLES</th>\n",
       "      <th>Category_BEAUTY</th>\n",
       "      <th>Category_BOOKS_AND_REFERENCE</th>\n",
       "      <th>Category_BUSINESS</th>\n",
       "      <th>Category_COMICS</th>\n",
       "      <th>Category_COMMUNICATION</th>\n",
       "      <th>Category_DATING</th>\n",
       "      <th>...</th>\n",
       "      <th>Installs_50000.0</th>\n",
       "      <th>Installs_100000.0</th>\n",
       "      <th>Installs_500000.0</th>\n",
       "      <th>Installs_1000000.0</th>\n",
       "      <th>Installs_5000000.0</th>\n",
       "      <th>Installs_10000000.0</th>\n",
       "      <th>Installs_50000000.0</th>\n",
       "      <th>Installs_100000000.0</th>\n",
       "      <th>Installs_500000000.0</th>\n",
       "      <th>Installs_1000000000.0</th>\n",
       "    </tr>\n",
       "  </thead>\n",
       "  <tbody>\n",
       "    <tr>\n",
       "      <th>0</th>\n",
       "      <td>4.1</td>\n",
       "      <td>159.0</td>\n",
       "      <td>0.0</td>\n",
       "      <td>0</td>\n",
       "      <td>0</td>\n",
       "      <td>0</td>\n",
       "      <td>0</td>\n",
       "      <td>0</td>\n",
       "      <td>0</td>\n",
       "      <td>0</td>\n",
       "      <td>...</td>\n",
       "      <td>0</td>\n",
       "      <td>0</td>\n",
       "      <td>0</td>\n",
       "      <td>0</td>\n",
       "      <td>0</td>\n",
       "      <td>0</td>\n",
       "      <td>0</td>\n",
       "      <td>0</td>\n",
       "      <td>0</td>\n",
       "      <td>0</td>\n",
       "    </tr>\n",
       "    <tr>\n",
       "      <th>1</th>\n",
       "      <td>3.9</td>\n",
       "      <td>967.0</td>\n",
       "      <td>0.0</td>\n",
       "      <td>0</td>\n",
       "      <td>0</td>\n",
       "      <td>0</td>\n",
       "      <td>0</td>\n",
       "      <td>0</td>\n",
       "      <td>0</td>\n",
       "      <td>0</td>\n",
       "      <td>...</td>\n",
       "      <td>0</td>\n",
       "      <td>0</td>\n",
       "      <td>1</td>\n",
       "      <td>0</td>\n",
       "      <td>0</td>\n",
       "      <td>0</td>\n",
       "      <td>0</td>\n",
       "      <td>0</td>\n",
       "      <td>0</td>\n",
       "      <td>0</td>\n",
       "    </tr>\n",
       "    <tr>\n",
       "      <th>2</th>\n",
       "      <td>4.7</td>\n",
       "      <td>87510.0</td>\n",
       "      <td>0.0</td>\n",
       "      <td>0</td>\n",
       "      <td>0</td>\n",
       "      <td>0</td>\n",
       "      <td>0</td>\n",
       "      <td>0</td>\n",
       "      <td>0</td>\n",
       "      <td>0</td>\n",
       "      <td>...</td>\n",
       "      <td>0</td>\n",
       "      <td>0</td>\n",
       "      <td>0</td>\n",
       "      <td>0</td>\n",
       "      <td>1</td>\n",
       "      <td>0</td>\n",
       "      <td>0</td>\n",
       "      <td>0</td>\n",
       "      <td>0</td>\n",
       "      <td>0</td>\n",
       "    </tr>\n",
       "    <tr>\n",
       "      <th>3</th>\n",
       "      <td>4.5</td>\n",
       "      <td>215644.0</td>\n",
       "      <td>0.0</td>\n",
       "      <td>0</td>\n",
       "      <td>0</td>\n",
       "      <td>0</td>\n",
       "      <td>0</td>\n",
       "      <td>0</td>\n",
       "      <td>0</td>\n",
       "      <td>0</td>\n",
       "      <td>...</td>\n",
       "      <td>0</td>\n",
       "      <td>0</td>\n",
       "      <td>0</td>\n",
       "      <td>0</td>\n",
       "      <td>0</td>\n",
       "      <td>0</td>\n",
       "      <td>1</td>\n",
       "      <td>0</td>\n",
       "      <td>0</td>\n",
       "      <td>0</td>\n",
       "    </tr>\n",
       "    <tr>\n",
       "      <th>4</th>\n",
       "      <td>4.3</td>\n",
       "      <td>967.0</td>\n",
       "      <td>0.0</td>\n",
       "      <td>0</td>\n",
       "      <td>0</td>\n",
       "      <td>0</td>\n",
       "      <td>0</td>\n",
       "      <td>0</td>\n",
       "      <td>0</td>\n",
       "      <td>0</td>\n",
       "      <td>...</td>\n",
       "      <td>0</td>\n",
       "      <td>1</td>\n",
       "      <td>0</td>\n",
       "      <td>0</td>\n",
       "      <td>0</td>\n",
       "      <td>0</td>\n",
       "      <td>0</td>\n",
       "      <td>0</td>\n",
       "      <td>0</td>\n",
       "      <td>0</td>\n",
       "    </tr>\n",
       "  </tbody>\n",
       "</table>\n",
       "<p>5 rows × 56 columns</p>\n",
       "</div>"
      ],
      "text/plain": [
       "   Rating   Reviews  Price  Category_AUTO_AND_VEHICLES  Category_BEAUTY  \\\n",
       "0     4.1     159.0    0.0                           0                0   \n",
       "1     3.9     967.0    0.0                           0                0   \n",
       "2     4.7   87510.0    0.0                           0                0   \n",
       "3     4.5  215644.0    0.0                           0                0   \n",
       "4     4.3     967.0    0.0                           0                0   \n",
       "\n",
       "   Category_BOOKS_AND_REFERENCE  Category_BUSINESS  Category_COMICS  \\\n",
       "0                             0                  0                0   \n",
       "1                             0                  0                0   \n",
       "2                             0                  0                0   \n",
       "3                             0                  0                0   \n",
       "4                             0                  0                0   \n",
       "\n",
       "   Category_COMMUNICATION  Category_DATING  ...  Installs_50000.0  \\\n",
       "0                       0                0  ...                 0   \n",
       "1                       0                0  ...                 0   \n",
       "2                       0                0  ...                 0   \n",
       "3                       0                0  ...                 0   \n",
       "4                       0                0  ...                 0   \n",
       "\n",
       "   Installs_100000.0  Installs_500000.0  Installs_1000000.0  \\\n",
       "0                  0                  0                   0   \n",
       "1                  0                  1                   0   \n",
       "2                  0                  0                   0   \n",
       "3                  0                  0                   0   \n",
       "4                  1                  0                   0   \n",
       "\n",
       "   Installs_5000000.0  Installs_10000000.0  Installs_50000000.0  \\\n",
       "0                   0                    0                    0   \n",
       "1                   0                    0                    0   \n",
       "2                   1                    0                    0   \n",
       "3                   0                    0                    1   \n",
       "4                   0                    0                    0   \n",
       "\n",
       "   Installs_100000000.0  Installs_500000000.0  Installs_1000000000.0  \n",
       "0                     0                     0                      0  \n",
       "1                     0                     0                      0  \n",
       "2                     0                     0                      0  \n",
       "3                     0                     0                      0  \n",
       "4                     0                     0                      0  \n",
       "\n",
       "[5 rows x 56 columns]"
      ]
     },
     "execution_count": 44,
     "metadata": {},
     "output_type": "execute_result"
    }
   ],
   "source": [
    "df_d.head()"
   ]
  },
  {
   "cell_type": "code",
   "execution_count": 45,
   "metadata": {},
   "outputs": [],
   "source": [
    "import statsmodels.api as sm"
   ]
  },
  {
   "cell_type": "code",
   "execution_count": 46,
   "metadata": {},
   "outputs": [],
   "source": [
    "def regress(Y,X):\n",
    "    '''\n",
    "    Y: coluna do DataFrame utilizada como variável resposta (TARGET)\n",
    "    X: coluna(s) do DataFrame utilizadas como variável(is) explicativas (FEATURES)\n",
    "    '''\n",
    "    X_cp = sm.add_constant(X)\n",
    "    model = sm.OLS(Y,X_cp)\n",
    "    results = model.fit()\n",
    "    \n",
    "    return results"
   ]
  },
  {
   "cell_type": "code",
   "execution_count": 47,
   "metadata": {},
   "outputs": [],
   "source": [
    "train_ = df_d.loc[:7800,:]\n",
    "test = df_d.loc[7801:,:]"
   ]
  },
  {
   "cell_type": "code",
   "execution_count": 48,
   "metadata": {},
   "outputs": [],
   "source": [
    "Y = train_['Rating']\n",
    "X = train_.drop(columns=['Rating'])\n",
    "Ytest = test['Rating']\n",
    "Xtest = test.drop(columns=['Rating'])\n",
    "\n",
    "X1 = train_.loc[:,['Reviews','Price']]\n",
    "X1test = test.loc[:,['Reviews','Price']]\n",
    "test1 = test.loc[:,['Rating','Reviews','Price']]\n",
    "\n",
    "#Tentando Review:\n",
    "Y_re = train_['Reviews']\n",
    "X_re = train_.drop(columns=['Reviews'])\n",
    "Ytest_re = test['Reviews']\n",
    "Xtest_re = test.drop(columns=['Reviews'])"
   ]
  },
  {
   "cell_type": "code",
   "execution_count": 49,
   "metadata": {},
   "outputs": [],
   "source": [
    "results1 = regress(Y,X1)\n",
    "results = regress(Y,X)\n",
    "results_re = regress(Y_re,X_re)\n",
    "\n",
    "pre1 = results1.predict(test1)\n",
    "pre = results.predict(test)\n",
    "pre_re = results_re.predict(test)\n"
   ]
  },
  {
   "cell_type": "code",
   "execution_count": 50,
   "metadata": {
    "scrolled": true
   },
   "outputs": [],
   "source": [
    "coefb = results.params\n"
   ]
  },
  {
   "cell_type": "code",
   "execution_count": 51,
   "metadata": {
    "scrolled": false
   },
   "outputs": [
    {
     "data": {
      "text/html": [
       "<table class=\"simpletable\">\n",
       "<caption>OLS Regression Results</caption>\n",
       "<tr>\n",
       "  <th>Dep. Variable:</th>         <td>Rating</td>      <th>  R-squared:         </th> <td>   0.090</td> \n",
       "</tr>\n",
       "<tr>\n",
       "  <th>Model:</th>                   <td>OLS</td>       <th>  Adj. R-squared:    </th> <td>   0.083</td> \n",
       "</tr>\n",
       "<tr>\n",
       "  <th>Method:</th>             <td>Least Squares</td>  <th>  F-statistic:       </th> <td>   12.39</td> \n",
       "</tr>\n",
       "<tr>\n",
       "  <th>Date:</th>             <td>Thu, 19 Nov 2020</td> <th>  Prob (F-statistic):</th> <td>5.00e-103</td>\n",
       "</tr>\n",
       "<tr>\n",
       "  <th>Time:</th>                 <td>15:05:21</td>     <th>  Log-Likelihood:    </th> <td> -4477.0</td> \n",
       "</tr>\n",
       "<tr>\n",
       "  <th>No. Observations:</th>      <td>  6953</td>      <th>  AIC:               </th> <td>   9066.</td> \n",
       "</tr>\n",
       "<tr>\n",
       "  <th>Df Residuals:</th>          <td>  6897</td>      <th>  BIC:               </th> <td>   9449.</td> \n",
       "</tr>\n",
       "<tr>\n",
       "  <th>Df Model:</th>              <td>    55</td>      <th>                     </th>     <td> </td>    \n",
       "</tr>\n",
       "<tr>\n",
       "  <th>Covariance Type:</th>      <td>nonrobust</td>    <th>                     </th>     <td> </td>    \n",
       "</tr>\n",
       "</table>\n",
       "<table class=\"simpletable\">\n",
       "<tr>\n",
       "                <td></td>                  <th>coef</th>     <th>std err</th>      <th>t</th>      <th>P>|t|</th>  <th>[0.025</th>    <th>0.975]</th>  \n",
       "</tr>\n",
       "<tr>\n",
       "  <th>const</th>                        <td>    5.1642</td> <td>    0.333</td> <td>   15.509</td> <td> 0.000</td> <td>    4.511</td> <td>    5.817</td>\n",
       "</tr>\n",
       "<tr>\n",
       "  <th>Reviews</th>                      <td>  4.12e-09</td> <td> 2.07e-09</td> <td>    1.985</td> <td> 0.047</td> <td> 5.22e-11</td> <td> 8.19e-09</td>\n",
       "</tr>\n",
       "<tr>\n",
       "  <th>Price</th>                        <td>   -0.0004</td> <td>    0.000</td> <td>   -1.144</td> <td> 0.253</td> <td>   -0.001</td> <td>    0.000</td>\n",
       "</tr>\n",
       "<tr>\n",
       "  <th>Category_AUTO_AND_VEHICLES</th>   <td>   -0.0789</td> <td>    0.084</td> <td>   -0.941</td> <td> 0.347</td> <td>   -0.243</td> <td>    0.086</td>\n",
       "</tr>\n",
       "<tr>\n",
       "  <th>Category_BEAUTY</th>              <td>   -0.0671</td> <td>    0.096</td> <td>   -0.702</td> <td> 0.482</td> <td>   -0.254</td> <td>    0.120</td>\n",
       "</tr>\n",
       "<tr>\n",
       "  <th>Category_BOOKS_AND_REFERENCE</th> <td>    0.0224</td> <td>    0.073</td> <td>    0.305</td> <td> 0.760</td> <td>   -0.121</td> <td>    0.166</td>\n",
       "</tr>\n",
       "<tr>\n",
       "  <th>Category_BUSINESS</th>            <td>   -0.2026</td> <td>    0.069</td> <td>   -2.938</td> <td> 0.003</td> <td>   -0.338</td> <td>   -0.067</td>\n",
       "</tr>\n",
       "<tr>\n",
       "  <th>Category_COMICS</th>              <td>   -0.1945</td> <td>    0.089</td> <td>   -2.187</td> <td> 0.029</td> <td>   -0.369</td> <td>   -0.020</td>\n",
       "</tr>\n",
       "<tr>\n",
       "  <th>Category_COMMUNICATION</th>       <td>   -0.3146</td> <td>    0.068</td> <td>   -4.659</td> <td> 0.000</td> <td>   -0.447</td> <td>   -0.182</td>\n",
       "</tr>\n",
       "<tr>\n",
       "  <th>Category_DATING</th>              <td>   -0.4002</td> <td>    0.075</td> <td>   -5.337</td> <td> 0.000</td> <td>   -0.547</td> <td>   -0.253</td>\n",
       "</tr>\n",
       "<tr>\n",
       "  <th>Category_EDUCATION</th>           <td>   -0.0468</td> <td>    0.071</td> <td>   -0.658</td> <td> 0.510</td> <td>   -0.186</td> <td>    0.093</td>\n",
       "</tr>\n",
       "<tr>\n",
       "  <th>Category_ENTERTAINMENT</th>       <td>   -0.3512</td> <td>    0.073</td> <td>   -4.834</td> <td> 0.000</td> <td>   -0.494</td> <td>   -0.209</td>\n",
       "</tr>\n",
       "<tr>\n",
       "  <th>Category_EVENTS</th>              <td>    0.0285</td> <td>    0.095</td> <td>    0.300</td> <td> 0.764</td> <td>   -0.158</td> <td>    0.215</td>\n",
       "</tr>\n",
       "<tr>\n",
       "  <th>Category_FAMILY</th>              <td>   -0.1803</td> <td>    0.062</td> <td>   -2.907</td> <td> 0.004</td> <td>   -0.302</td> <td>   -0.059</td>\n",
       "</tr>\n",
       "<tr>\n",
       "  <th>Category_FINANCE</th>             <td>   -0.2108</td> <td>    0.068</td> <td>   -3.103</td> <td> 0.002</td> <td>   -0.344</td> <td>   -0.078</td>\n",
       "</tr>\n",
       "<tr>\n",
       "  <th>Category_FOOD_AND_DRINK</th>      <td>   -0.2271</td> <td>    0.077</td> <td>   -2.935</td> <td> 0.003</td> <td>   -0.379</td> <td>   -0.075</td>\n",
       "</tr>\n",
       "<tr>\n",
       "  <th>Category_GAME</th>                <td>   -0.1578</td> <td>    0.063</td> <td>   -2.499</td> <td> 0.012</td> <td>   -0.282</td> <td>   -0.034</td>\n",
       "</tr>\n",
       "<tr>\n",
       "  <th>Category_HEALTH_AND_FITNESS</th>  <td>   -0.1500</td> <td>    0.067</td> <td>   -2.250</td> <td> 0.024</td> <td>   -0.281</td> <td>   -0.019</td>\n",
       "</tr>\n",
       "<tr>\n",
       "  <th>Category_HOUSE_AND_HOME</th>      <td>   -0.1956</td> <td>    0.082</td> <td>   -2.395</td> <td> 0.017</td> <td>   -0.356</td> <td>   -0.035</td>\n",
       "</tr>\n",
       "<tr>\n",
       "  <th>Category_LIBRARIES_AND_DEMO</th>  <td>   -0.1622</td> <td>    0.085</td> <td>   -1.919</td> <td> 0.055</td> <td>   -0.328</td> <td>    0.004</td>\n",
       "</tr>\n",
       "<tr>\n",
       "  <th>Category_LIFESTYLE</th>           <td>   -0.3219</td> <td>    0.067</td> <td>   -4.784</td> <td> 0.000</td> <td>   -0.454</td> <td>   -0.190</td>\n",
       "</tr>\n",
       "<tr>\n",
       "  <th>Category_MAPS_AND_NAVIGATION</th> <td>   -0.3046</td> <td>    0.078</td> <td>   -3.919</td> <td> 0.000</td> <td>   -0.457</td> <td>   -0.152</td>\n",
       "</tr>\n",
       "<tr>\n",
       "  <th>Category_MEDICAL</th>             <td>   -0.1702</td> <td>    0.066</td> <td>   -2.577</td> <td> 0.010</td> <td>   -0.300</td> <td>   -0.041</td>\n",
       "</tr>\n",
       "<tr>\n",
       "  <th>Category_NEWS_AND_MAGAZINES</th>  <td>   -0.2565</td> <td>    0.072</td> <td>   -3.586</td> <td> 0.000</td> <td>   -0.397</td> <td>   -0.116</td>\n",
       "</tr>\n",
       "<tr>\n",
       "  <th>Category_PARENTING</th>           <td>   -0.0688</td> <td>    0.090</td> <td>   -0.764</td> <td> 0.445</td> <td>   -0.245</td> <td>    0.108</td>\n",
       "</tr>\n",
       "<tr>\n",
       "  <th>Category_PERSONALIZATION</th>     <td>   -0.0487</td> <td>    0.067</td> <td>   -0.726</td> <td> 0.468</td> <td>   -0.180</td> <td>    0.083</td>\n",
       "</tr>\n",
       "<tr>\n",
       "  <th>Category_PHOTOGRAPHY</th>         <td>   -0.2425</td> <td>    0.067</td> <td>   -3.595</td> <td> 0.000</td> <td>   -0.375</td> <td>   -0.110</td>\n",
       "</tr>\n",
       "<tr>\n",
       "  <th>Category_PRODUCTIVITY</th>        <td>   -0.2636</td> <td>    0.068</td> <td>   -3.891</td> <td> 0.000</td> <td>   -0.396</td> <td>   -0.131</td>\n",
       "</tr>\n",
       "<tr>\n",
       "  <th>Category_SHOPPING</th>            <td>   -0.2031</td> <td>    0.069</td> <td>   -2.956</td> <td> 0.003</td> <td>   -0.338</td> <td>   -0.068</td>\n",
       "</tr>\n",
       "<tr>\n",
       "  <th>Category_SOCIAL</th>              <td>   -0.2070</td> <td>    0.071</td> <td>   -2.935</td> <td> 0.003</td> <td>   -0.345</td> <td>   -0.069</td>\n",
       "</tr>\n",
       "<tr>\n",
       "  <th>Category_SPORTS</th>              <td>   -0.2202</td> <td>    0.068</td> <td>   -3.220</td> <td> 0.001</td> <td>   -0.354</td> <td>   -0.086</td>\n",
       "</tr>\n",
       "<tr>\n",
       "  <th>Category_TOOLS</th>               <td>   -0.3344</td> <td>    0.064</td> <td>   -5.220</td> <td> 0.000</td> <td>   -0.460</td> <td>   -0.209</td>\n",
       "</tr>\n",
       "<tr>\n",
       "  <th>Category_TRAVEL_AND_LOCAL</th>    <td>   -0.2873</td> <td>    0.070</td> <td>   -4.114</td> <td> 0.000</td> <td>   -0.424</td> <td>   -0.150</td>\n",
       "</tr>\n",
       "<tr>\n",
       "  <th>Category_VIDEO_PLAYERS</th>       <td>   -0.2993</td> <td>    0.074</td> <td>   -4.038</td> <td> 0.000</td> <td>   -0.445</td> <td>   -0.154</td>\n",
       "</tr>\n",
       "<tr>\n",
       "  <th>Category_WEATHER</th>             <td>   -0.1414</td> <td>    0.087</td> <td>   -1.627</td> <td> 0.104</td> <td>   -0.312</td> <td>    0.029</td>\n",
       "</tr>\n",
       "<tr>\n",
       "  <th>Content Rating_Everyone 10+</th>  <td>   -0.0001</td> <td>    0.029</td> <td>   -0.004</td> <td> 0.997</td> <td>   -0.057</td> <td>    0.057</td>\n",
       "</tr>\n",
       "<tr>\n",
       "  <th>Content Rating_Mature 17+</th>    <td>   -0.0093</td> <td>    0.032</td> <td>   -0.289</td> <td> 0.772</td> <td>   -0.072</td> <td>    0.054</td>\n",
       "</tr>\n",
       "<tr>\n",
       "  <th>Content Rating_Teen</th>          <td>   -0.0046</td> <td>    0.020</td> <td>   -0.233</td> <td> 0.815</td> <td>   -0.043</td> <td>    0.034</td>\n",
       "</tr>\n",
       "<tr>\n",
       "  <th>Installs_5.0</th>                 <td>    0.0154</td> <td>    0.378</td> <td>    0.041</td> <td> 0.967</td> <td>   -0.725</td> <td>    0.756</td>\n",
       "</tr>\n",
       "<tr>\n",
       "  <th>Installs_10.0</th>                <td>   -0.3909</td> <td>    0.335</td> <td>   -1.166</td> <td> 0.244</td> <td>   -1.048</td> <td>    0.266</td>\n",
       "</tr>\n",
       "<tr>\n",
       "  <th>Installs_50.0</th>                <td>   -0.4773</td> <td>    0.338</td> <td>   -1.412</td> <td> 0.158</td> <td>   -1.140</td> <td>    0.185</td>\n",
       "</tr>\n",
       "<tr>\n",
       "  <th>Installs_100.0</th>               <td>   -0.6158</td> <td>    0.329</td> <td>   -1.871</td> <td> 0.061</td> <td>   -1.261</td> <td>    0.029</td>\n",
       "</tr>\n",
       "<tr>\n",
       "  <th>Installs_500.0</th>               <td>   -0.7349</td> <td>    0.330</td> <td>   -2.227</td> <td> 0.026</td> <td>   -1.382</td> <td>   -0.088</td>\n",
       "</tr>\n",
       "<tr>\n",
       "  <th>Installs_1000.0</th>              <td>   -0.8634</td> <td>    0.328</td> <td>   -2.631</td> <td> 0.009</td> <td>   -1.507</td> <td>   -0.220</td>\n",
       "</tr>\n",
       "<tr>\n",
       "  <th>Installs_5000.0</th>              <td>   -0.8879</td> <td>    0.329</td> <td>   -2.702</td> <td> 0.007</td> <td>   -1.532</td> <td>   -0.244</td>\n",
       "</tr>\n",
       "<tr>\n",
       "  <th>Installs_10000.0</th>             <td>   -0.8871</td> <td>    0.328</td> <td>   -2.705</td> <td> 0.007</td> <td>   -1.530</td> <td>   -0.244</td>\n",
       "</tr>\n",
       "<tr>\n",
       "  <th>Installs_50000.0</th>             <td>   -0.8965</td> <td>    0.329</td> <td>   -2.729</td> <td> 0.006</td> <td>   -1.540</td> <td>   -0.253</td>\n",
       "</tr>\n",
       "<tr>\n",
       "  <th>Installs_100000.0</th>            <td>   -0.8340</td> <td>    0.328</td> <td>   -2.544</td> <td> 0.011</td> <td>   -1.477</td> <td>   -0.191</td>\n",
       "</tr>\n",
       "<tr>\n",
       "  <th>Installs_500000.0</th>            <td>   -0.7927</td> <td>    0.328</td> <td>   -2.415</td> <td> 0.016</td> <td>   -1.436</td> <td>   -0.149</td>\n",
       "</tr>\n",
       "<tr>\n",
       "  <th>Installs_1000000.0</th>           <td>   -0.7129</td> <td>    0.328</td> <td>   -2.175</td> <td> 0.030</td> <td>   -1.355</td> <td>   -0.070</td>\n",
       "</tr>\n",
       "<tr>\n",
       "  <th>Installs_5000000.0</th>           <td>   -0.7021</td> <td>    0.328</td> <td>   -2.141</td> <td> 0.032</td> <td>   -1.345</td> <td>   -0.059</td>\n",
       "</tr>\n",
       "<tr>\n",
       "  <th>Installs_10000000.0</th>          <td>   -0.6319</td> <td>    0.328</td> <td>   -1.928</td> <td> 0.054</td> <td>   -1.275</td> <td>    0.011</td>\n",
       "</tr>\n",
       "<tr>\n",
       "  <th>Installs_50000000.0</th>          <td>   -0.5997</td> <td>    0.329</td> <td>   -1.824</td> <td> 0.068</td> <td>   -1.244</td> <td>    0.045</td>\n",
       "</tr>\n",
       "<tr>\n",
       "  <th>Installs_100000000.0</th>         <td>   -0.5583</td> <td>    0.328</td> <td>   -1.700</td> <td> 0.089</td> <td>   -1.202</td> <td>    0.086</td>\n",
       "</tr>\n",
       "<tr>\n",
       "  <th>Installs_500000000.0</th>         <td>   -0.6037</td> <td>    0.333</td> <td>   -1.814</td> <td> 0.070</td> <td>   -1.256</td> <td>    0.049</td>\n",
       "</tr>\n",
       "<tr>\n",
       "  <th>Installs_1000000000.0</th>        <td>   -0.7262</td> <td>    0.336</td> <td>   -2.158</td> <td> 0.031</td> <td>   -1.386</td> <td>   -0.067</td>\n",
       "</tr>\n",
       "</table>\n",
       "<table class=\"simpletable\">\n",
       "<tr>\n",
       "  <th>Omnibus:</th>       <td>3027.052</td> <th>  Durbin-Watson:     </th> <td>   1.874</td> \n",
       "</tr>\n",
       "<tr>\n",
       "  <th>Prob(Omnibus):</th>  <td> 0.000</td>  <th>  Jarque-Bera (JB):  </th> <td>21692.733</td>\n",
       "</tr>\n",
       "<tr>\n",
       "  <th>Skew:</th>           <td>-1.938</td>  <th>  Prob(JB):          </th> <td>    0.00</td> \n",
       "</tr>\n",
       "<tr>\n",
       "  <th>Kurtosis:</th>       <td>10.737</td>  <th>  Cond. No.          </th> <td>9.48e+08</td> \n",
       "</tr>\n",
       "</table><br/><br/>Warnings:<br/>[1] Standard Errors assume that the covariance matrix of the errors is correctly specified.<br/>[2] The condition number is large, 9.48e+08. This might indicate that there are<br/>strong multicollinearity or other numerical problems."
      ],
      "text/plain": [
       "<class 'statsmodels.iolib.summary.Summary'>\n",
       "\"\"\"\n",
       "                            OLS Regression Results                            \n",
       "==============================================================================\n",
       "Dep. Variable:                 Rating   R-squared:                       0.090\n",
       "Model:                            OLS   Adj. R-squared:                  0.083\n",
       "Method:                 Least Squares   F-statistic:                     12.39\n",
       "Date:                Thu, 19 Nov 2020   Prob (F-statistic):          5.00e-103\n",
       "Time:                        15:05:21   Log-Likelihood:                -4477.0\n",
       "No. Observations:                6953   AIC:                             9066.\n",
       "Df Residuals:                    6897   BIC:                             9449.\n",
       "Df Model:                          55                                         \n",
       "Covariance Type:            nonrobust                                         \n",
       "================================================================================================\n",
       "                                   coef    std err          t      P>|t|      [0.025      0.975]\n",
       "------------------------------------------------------------------------------------------------\n",
       "const                            5.1642      0.333     15.509      0.000       4.511       5.817\n",
       "Reviews                        4.12e-09   2.07e-09      1.985      0.047    5.22e-11    8.19e-09\n",
       "Price                           -0.0004      0.000     -1.144      0.253      -0.001       0.000\n",
       "Category_AUTO_AND_VEHICLES      -0.0789      0.084     -0.941      0.347      -0.243       0.086\n",
       "Category_BEAUTY                 -0.0671      0.096     -0.702      0.482      -0.254       0.120\n",
       "Category_BOOKS_AND_REFERENCE     0.0224      0.073      0.305      0.760      -0.121       0.166\n",
       "Category_BUSINESS               -0.2026      0.069     -2.938      0.003      -0.338      -0.067\n",
       "Category_COMICS                 -0.1945      0.089     -2.187      0.029      -0.369      -0.020\n",
       "Category_COMMUNICATION          -0.3146      0.068     -4.659      0.000      -0.447      -0.182\n",
       "Category_DATING                 -0.4002      0.075     -5.337      0.000      -0.547      -0.253\n",
       "Category_EDUCATION              -0.0468      0.071     -0.658      0.510      -0.186       0.093\n",
       "Category_ENTERTAINMENT          -0.3512      0.073     -4.834      0.000      -0.494      -0.209\n",
       "Category_EVENTS                  0.0285      0.095      0.300      0.764      -0.158       0.215\n",
       "Category_FAMILY                 -0.1803      0.062     -2.907      0.004      -0.302      -0.059\n",
       "Category_FINANCE                -0.2108      0.068     -3.103      0.002      -0.344      -0.078\n",
       "Category_FOOD_AND_DRINK         -0.2271      0.077     -2.935      0.003      -0.379      -0.075\n",
       "Category_GAME                   -0.1578      0.063     -2.499      0.012      -0.282      -0.034\n",
       "Category_HEALTH_AND_FITNESS     -0.1500      0.067     -2.250      0.024      -0.281      -0.019\n",
       "Category_HOUSE_AND_HOME         -0.1956      0.082     -2.395      0.017      -0.356      -0.035\n",
       "Category_LIBRARIES_AND_DEMO     -0.1622      0.085     -1.919      0.055      -0.328       0.004\n",
       "Category_LIFESTYLE              -0.3219      0.067     -4.784      0.000      -0.454      -0.190\n",
       "Category_MAPS_AND_NAVIGATION    -0.3046      0.078     -3.919      0.000      -0.457      -0.152\n",
       "Category_MEDICAL                -0.1702      0.066     -2.577      0.010      -0.300      -0.041\n",
       "Category_NEWS_AND_MAGAZINES     -0.2565      0.072     -3.586      0.000      -0.397      -0.116\n",
       "Category_PARENTING              -0.0688      0.090     -0.764      0.445      -0.245       0.108\n",
       "Category_PERSONALIZATION        -0.0487      0.067     -0.726      0.468      -0.180       0.083\n",
       "Category_PHOTOGRAPHY            -0.2425      0.067     -3.595      0.000      -0.375      -0.110\n",
       "Category_PRODUCTIVITY           -0.2636      0.068     -3.891      0.000      -0.396      -0.131\n",
       "Category_SHOPPING               -0.2031      0.069     -2.956      0.003      -0.338      -0.068\n",
       "Category_SOCIAL                 -0.2070      0.071     -2.935      0.003      -0.345      -0.069\n",
       "Category_SPORTS                 -0.2202      0.068     -3.220      0.001      -0.354      -0.086\n",
       "Category_TOOLS                  -0.3344      0.064     -5.220      0.000      -0.460      -0.209\n",
       "Category_TRAVEL_AND_LOCAL       -0.2873      0.070     -4.114      0.000      -0.424      -0.150\n",
       "Category_VIDEO_PLAYERS          -0.2993      0.074     -4.038      0.000      -0.445      -0.154\n",
       "Category_WEATHER                -0.1414      0.087     -1.627      0.104      -0.312       0.029\n",
       "Content Rating_Everyone 10+     -0.0001      0.029     -0.004      0.997      -0.057       0.057\n",
       "Content Rating_Mature 17+       -0.0093      0.032     -0.289      0.772      -0.072       0.054\n",
       "Content Rating_Teen             -0.0046      0.020     -0.233      0.815      -0.043       0.034\n",
       "Installs_5.0                     0.0154      0.378      0.041      0.967      -0.725       0.756\n",
       "Installs_10.0                   -0.3909      0.335     -1.166      0.244      -1.048       0.266\n",
       "Installs_50.0                   -0.4773      0.338     -1.412      0.158      -1.140       0.185\n",
       "Installs_100.0                  -0.6158      0.329     -1.871      0.061      -1.261       0.029\n",
       "Installs_500.0                  -0.7349      0.330     -2.227      0.026      -1.382      -0.088\n",
       "Installs_1000.0                 -0.8634      0.328     -2.631      0.009      -1.507      -0.220\n",
       "Installs_5000.0                 -0.8879      0.329     -2.702      0.007      -1.532      -0.244\n",
       "Installs_10000.0                -0.8871      0.328     -2.705      0.007      -1.530      -0.244\n",
       "Installs_50000.0                -0.8965      0.329     -2.729      0.006      -1.540      -0.253\n",
       "Installs_100000.0               -0.8340      0.328     -2.544      0.011      -1.477      -0.191\n",
       "Installs_500000.0               -0.7927      0.328     -2.415      0.016      -1.436      -0.149\n",
       "Installs_1000000.0              -0.7129      0.328     -2.175      0.030      -1.355      -0.070\n",
       "Installs_5000000.0              -0.7021      0.328     -2.141      0.032      -1.345      -0.059\n",
       "Installs_10000000.0             -0.6319      0.328     -1.928      0.054      -1.275       0.011\n",
       "Installs_50000000.0             -0.5997      0.329     -1.824      0.068      -1.244       0.045\n",
       "Installs_100000000.0            -0.5583      0.328     -1.700      0.089      -1.202       0.086\n",
       "Installs_500000000.0            -0.6037      0.333     -1.814      0.070      -1.256       0.049\n",
       "Installs_1000000000.0           -0.7262      0.336     -2.158      0.031      -1.386      -0.067\n",
       "==============================================================================\n",
       "Omnibus:                     3027.052   Durbin-Watson:                   1.874\n",
       "Prob(Omnibus):                  0.000   Jarque-Bera (JB):            21692.733\n",
       "Skew:                          -1.938   Prob(JB):                         0.00\n",
       "Kurtosis:                      10.737   Cond. No.                     9.48e+08\n",
       "==============================================================================\n",
       "\n",
       "Warnings:\n",
       "[1] Standard Errors assume that the covariance matrix of the errors is correctly specified.\n",
       "[2] The condition number is large, 9.48e+08. This might indicate that there are\n",
       "strong multicollinearity or other numerical problems.\n",
       "\"\"\""
      ]
     },
     "execution_count": 51,
     "metadata": {},
     "output_type": "execute_result"
    }
   ],
   "source": [
    "results.summary()"
   ]
  },
  {
   "cell_type": "code",
   "execution_count": 52,
   "metadata": {},
   "outputs": [
    {
     "data": {
      "text/html": [
       "<table class=\"simpletable\">\n",
       "<caption>OLS Regression Results</caption>\n",
       "<tr>\n",
       "  <th>Dep. Variable:</th>         <td>Rating</td>      <th>  R-squared:         </th> <td>   0.006</td>\n",
       "</tr>\n",
       "<tr>\n",
       "  <th>Model:</th>                   <td>OLS</td>       <th>  Adj. R-squared:    </th> <td>   0.006</td>\n",
       "</tr>\n",
       "<tr>\n",
       "  <th>Method:</th>             <td>Least Squares</td>  <th>  F-statistic:       </th> <td>   20.51</td>\n",
       "</tr>\n",
       "<tr>\n",
       "  <th>Date:</th>             <td>Thu, 19 Nov 2020</td> <th>  Prob (F-statistic):</th> <td>1.31e-09</td>\n",
       "</tr>\n",
       "<tr>\n",
       "  <th>Time:</th>                 <td>15:05:43</td>     <th>  Log-Likelihood:    </th> <td> -4784.0</td>\n",
       "</tr>\n",
       "<tr>\n",
       "  <th>No. Observations:</th>      <td>  6953</td>      <th>  AIC:               </th> <td>   9574.</td>\n",
       "</tr>\n",
       "<tr>\n",
       "  <th>Df Residuals:</th>          <td>  6950</td>      <th>  BIC:               </th> <td>   9595.</td>\n",
       "</tr>\n",
       "<tr>\n",
       "  <th>Df Model:</th>              <td>     2</td>      <th>                     </th>     <td> </td>   \n",
       "</tr>\n",
       "<tr>\n",
       "  <th>Covariance Type:</th>      <td>nonrobust</td>    <th>                     </th>     <td> </td>   \n",
       "</tr>\n",
       "</table>\n",
       "<table class=\"simpletable\">\n",
       "<tr>\n",
       "     <td></td>        <th>coef</th>     <th>std err</th>      <th>t</th>      <th>P>|t|</th>  <th>[0.025</th>    <th>0.975]</th>  \n",
       "</tr>\n",
       "<tr>\n",
       "  <th>const</th>   <td>    4.2135</td> <td>    0.006</td> <td>  716.202</td> <td> 0.000</td> <td>    4.202</td> <td>    4.225</td>\n",
       "</tr>\n",
       "<tr>\n",
       "  <th>Reviews</th> <td> 9.382e-09</td> <td> 1.59e-09</td> <td>    5.884</td> <td> 0.000</td> <td> 6.26e-09</td> <td> 1.25e-08</td>\n",
       "</tr>\n",
       "<tr>\n",
       "  <th>Price</th>   <td>   -0.0008</td> <td>    0.000</td> <td>   -2.461</td> <td> 0.014</td> <td>   -0.001</td> <td>   -0.000</td>\n",
       "</tr>\n",
       "</table>\n",
       "<table class=\"simpletable\">\n",
       "<tr>\n",
       "  <th>Omnibus:</th>       <td>2999.133</td> <th>  Durbin-Watson:     </th> <td>   1.766</td> \n",
       "</tr>\n",
       "<tr>\n",
       "  <th>Prob(Omnibus):</th>  <td> 0.000</td>  <th>  Jarque-Bera (JB):  </th> <td>18121.273</td>\n",
       "</tr>\n",
       "<tr>\n",
       "  <th>Skew:</th>           <td>-1.982</td>  <th>  Prob(JB):          </th> <td>    0.00</td> \n",
       "</tr>\n",
       "<tr>\n",
       "  <th>Kurtosis:</th>       <td> 9.843</td>  <th>  Cond. No.          </th> <td>3.75e+06</td> \n",
       "</tr>\n",
       "</table><br/><br/>Warnings:<br/>[1] Standard Errors assume that the covariance matrix of the errors is correctly specified.<br/>[2] The condition number is large, 3.75e+06. This might indicate that there are<br/>strong multicollinearity or other numerical problems."
      ],
      "text/plain": [
       "<class 'statsmodels.iolib.summary.Summary'>\n",
       "\"\"\"\n",
       "                            OLS Regression Results                            \n",
       "==============================================================================\n",
       "Dep. Variable:                 Rating   R-squared:                       0.006\n",
       "Model:                            OLS   Adj. R-squared:                  0.006\n",
       "Method:                 Least Squares   F-statistic:                     20.51\n",
       "Date:                Thu, 19 Nov 2020   Prob (F-statistic):           1.31e-09\n",
       "Time:                        15:05:43   Log-Likelihood:                -4784.0\n",
       "No. Observations:                6953   AIC:                             9574.\n",
       "Df Residuals:                    6950   BIC:                             9595.\n",
       "Df Model:                           2                                         \n",
       "Covariance Type:            nonrobust                                         \n",
       "==============================================================================\n",
       "                 coef    std err          t      P>|t|      [0.025      0.975]\n",
       "------------------------------------------------------------------------------\n",
       "const          4.2135      0.006    716.202      0.000       4.202       4.225\n",
       "Reviews     9.382e-09   1.59e-09      5.884      0.000    6.26e-09    1.25e-08\n",
       "Price         -0.0008      0.000     -2.461      0.014      -0.001      -0.000\n",
       "==============================================================================\n",
       "Omnibus:                     2999.133   Durbin-Watson:                   1.766\n",
       "Prob(Omnibus):                  0.000   Jarque-Bera (JB):            18121.273\n",
       "Skew:                          -1.982   Prob(JB):                         0.00\n",
       "Kurtosis:                       9.843   Cond. No.                     3.75e+06\n",
       "==============================================================================\n",
       "\n",
       "Warnings:\n",
       "[1] Standard Errors assume that the covariance matrix of the errors is correctly specified.\n",
       "[2] The condition number is large, 3.75e+06. This might indicate that there are\n",
       "strong multicollinearity or other numerical problems.\n",
       "\"\"\""
      ]
     },
     "execution_count": 52,
     "metadata": {},
     "output_type": "execute_result"
    }
   ],
   "source": [
    "results1.summary()"
   ]
  },
  {
   "cell_type": "code",
   "execution_count": 53,
   "metadata": {
    "scrolled": false
   },
   "outputs": [
    {
     "data": {
      "text/html": [
       "<table class=\"simpletable\">\n",
       "<caption>OLS Regression Results</caption>\n",
       "<tr>\n",
       "  <th>Dep. Variable:</th>         <td>Reviews</td>     <th>  R-squared:         </th>  <td>   0.456</td>  \n",
       "</tr>\n",
       "<tr>\n",
       "  <th>Model:</th>                   <td>OLS</td>       <th>  Adj. R-squared:    </th>  <td>   0.451</td>  \n",
       "</tr>\n",
       "<tr>\n",
       "  <th>Method:</th>             <td>Least Squares</td>  <th>  F-statistic:       </th>  <td>   105.0</td>  \n",
       "</tr>\n",
       "<tr>\n",
       "  <th>Date:</th>             <td>Thu, 19 Nov 2020</td> <th>  Prob (F-statistic):</th>   <td>  0.00</td>   \n",
       "</tr>\n",
       "<tr>\n",
       "  <th>Time:</th>                 <td>15:05:52</td>     <th>  Log-Likelihood:    </th> <td>-1.1276e+05</td>\n",
       "</tr>\n",
       "<tr>\n",
       "  <th>No. Observations:</th>      <td>  6953</td>      <th>  AIC:               </th>  <td>2.256e+05</td> \n",
       "</tr>\n",
       "<tr>\n",
       "  <th>Df Residuals:</th>          <td>  6897</td>      <th>  BIC:               </th>  <td>2.260e+05</td> \n",
       "</tr>\n",
       "<tr>\n",
       "  <th>Df Model:</th>              <td>    55</td>      <th>                     </th>      <td> </td>     \n",
       "</tr>\n",
       "<tr>\n",
       "  <th>Covariance Type:</th>      <td>nonrobust</td>    <th>                     </th>      <td> </td>     \n",
       "</tr>\n",
       "</table>\n",
       "<table class=\"simpletable\">\n",
       "<tr>\n",
       "                <td></td>                  <th>coef</th>     <th>std err</th>      <th>t</th>      <th>P>|t|</th>  <th>[0.025</th>    <th>0.975]</th>  \n",
       "</tr>\n",
       "<tr>\n",
       "  <th>const</th>                        <td>-9.886e+05</td> <td> 1.97e+06</td> <td>   -0.503</td> <td> 0.615</td> <td>-4.84e+06</td> <td> 2.86e+06</td>\n",
       "</tr>\n",
       "<tr>\n",
       "  <th>Rating</th>                       <td> 1.387e+05</td> <td> 6.98e+04</td> <td>    1.985</td> <td> 0.047</td> <td> 1758.369</td> <td> 2.76e+05</td>\n",
       "</tr>\n",
       "<tr>\n",
       "  <th>Price</th>                        <td>   31.5781</td> <td> 1777.868</td> <td>    0.018</td> <td> 0.986</td> <td>-3453.591</td> <td> 3516.747</td>\n",
       "</tr>\n",
       "<tr>\n",
       "  <th>Category_AUTO_AND_VEHICLES</th>   <td> 3.758e+04</td> <td> 4.87e+05</td> <td>    0.077</td> <td> 0.938</td> <td>-9.17e+05</td> <td> 9.92e+05</td>\n",
       "</tr>\n",
       "<tr>\n",
       "  <th>Category_BEAUTY</th>              <td> 4.671e+04</td> <td> 5.54e+05</td> <td>    0.084</td> <td> 0.933</td> <td>-1.04e+06</td> <td> 1.13e+06</td>\n",
       "</tr>\n",
       "<tr>\n",
       "  <th>Category_BOOKS_AND_REFERENCE</th> <td>-2.982e+05</td> <td> 4.25e+05</td> <td>   -0.701</td> <td> 0.483</td> <td>-1.13e+06</td> <td> 5.35e+05</td>\n",
       "</tr>\n",
       "<tr>\n",
       "  <th>Category_BUSINESS</th>            <td> 1438.4583</td> <td>    4e+05</td> <td>    0.004</td> <td> 0.997</td> <td>-7.83e+05</td> <td> 7.86e+05</td>\n",
       "</tr>\n",
       "<tr>\n",
       "  <th>Category_COMICS</th>              <td> 6.674e+04</td> <td> 5.16e+05</td> <td>    0.129</td> <td> 0.897</td> <td>-9.45e+05</td> <td> 1.08e+06</td>\n",
       "</tr>\n",
       "<tr>\n",
       "  <th>Category_COMMUNICATION</th>       <td> 1.945e+05</td> <td> 3.92e+05</td> <td>    0.496</td> <td> 0.620</td> <td>-5.75e+05</td> <td> 9.64e+05</td>\n",
       "</tr>\n",
       "<tr>\n",
       "  <th>Category_DATING</th>              <td> 3.746e+05</td> <td> 4.36e+05</td> <td>    0.859</td> <td> 0.390</td> <td> -4.8e+05</td> <td> 1.23e+06</td>\n",
       "</tr>\n",
       "<tr>\n",
       "  <th>Category_EDUCATION</th>           <td> 5.911e+04</td> <td> 4.12e+05</td> <td>    0.143</td> <td> 0.886</td> <td>-7.49e+05</td> <td> 8.67e+05</td>\n",
       "</tr>\n",
       "<tr>\n",
       "  <th>Category_ENTERTAINMENT</th>       <td>-2.042e+05</td> <td> 4.22e+05</td> <td>   -0.484</td> <td> 0.629</td> <td>-1.03e+06</td> <td> 6.23e+05</td>\n",
       "</tr>\n",
       "<tr>\n",
       "  <th>Category_EVENTS</th>              <td>-3.803e+04</td> <td> 5.51e+05</td> <td>   -0.069</td> <td> 0.945</td> <td>-1.12e+06</td> <td> 1.04e+06</td>\n",
       "</tr>\n",
       "<tr>\n",
       "  <th>Category_FAMILY</th>              <td> 6.972e+04</td> <td>  3.6e+05</td> <td>    0.194</td> <td> 0.846</td> <td>-6.36e+05</td> <td> 7.75e+05</td>\n",
       "</tr>\n",
       "<tr>\n",
       "  <th>Category_FINANCE</th>             <td> 7764.9574</td> <td> 3.94e+05</td> <td>    0.020</td> <td> 0.984</td> <td>-7.66e+05</td> <td> 7.81e+05</td>\n",
       "</tr>\n",
       "<tr>\n",
       "  <th>Category_FOOD_AND_DRINK</th>      <td> 6.045e+04</td> <td> 4.49e+05</td> <td>    0.135</td> <td> 0.893</td> <td> -8.2e+05</td> <td> 9.41e+05</td>\n",
       "</tr>\n",
       "<tr>\n",
       "  <th>Category_GAME</th>                <td>  5.43e+05</td> <td> 3.66e+05</td> <td>    1.482</td> <td> 0.138</td> <td>-1.75e+05</td> <td> 1.26e+06</td>\n",
       "</tr>\n",
       "<tr>\n",
       "  <th>Category_HEALTH_AND_FITNESS</th>  <td> 3.262e+04</td> <td> 3.87e+05</td> <td>    0.084</td> <td> 0.933</td> <td>-7.26e+05</td> <td> 7.91e+05</td>\n",
       "</tr>\n",
       "<tr>\n",
       "  <th>Category_HOUSE_AND_HOME</th>      <td> 5.551e+04</td> <td> 4.74e+05</td> <td>    0.117</td> <td> 0.907</td> <td>-8.74e+05</td> <td> 9.85e+05</td>\n",
       "</tr>\n",
       "<tr>\n",
       "  <th>Category_LIBRARIES_AND_DEMO</th>  <td>  4.77e+04</td> <td> 4.91e+05</td> <td>    0.097</td> <td> 0.923</td> <td>-9.14e+05</td> <td> 1.01e+06</td>\n",
       "</tr>\n",
       "<tr>\n",
       "  <th>Category_LIFESTYLE</th>           <td> 5.429e+04</td> <td> 3.91e+05</td> <td>    0.139</td> <td> 0.890</td> <td>-7.12e+05</td> <td> 8.21e+05</td>\n",
       "</tr>\n",
       "<tr>\n",
       "  <th>Category_MAPS_AND_NAVIGATION</th> <td> 1.365e+05</td> <td> 4.51e+05</td> <td>    0.302</td> <td> 0.762</td> <td>-7.48e+05</td> <td> 1.02e+06</td>\n",
       "</tr>\n",
       "<tr>\n",
       "  <th>Category_MEDICAL</th>             <td> 4.758e+04</td> <td> 3.83e+05</td> <td>    0.124</td> <td> 0.901</td> <td>-7.04e+05</td> <td> 7.99e+05</td>\n",
       "</tr>\n",
       "<tr>\n",
       "  <th>Category_NEWS_AND_MAGAZINES</th>  <td>-7.722e+05</td> <td> 4.15e+05</td> <td>   -1.859</td> <td> 0.063</td> <td>-1.59e+06</td> <td>  4.2e+04</td>\n",
       "</tr>\n",
       "<tr>\n",
       "  <th>Category_PARENTING</th>           <td> 5.791e+04</td> <td> 5.22e+05</td> <td>    0.111</td> <td> 0.912</td> <td>-9.66e+05</td> <td> 1.08e+06</td>\n",
       "</tr>\n",
       "<tr>\n",
       "  <th>Category_PERSONALIZATION</th>     <td>  3.15e+04</td> <td>  3.9e+05</td> <td>    0.081</td> <td> 0.936</td> <td>-7.32e+05</td> <td> 7.95e+05</td>\n",
       "</tr>\n",
       "<tr>\n",
       "  <th>Category_PHOTOGRAPHY</th>         <td>-2.931e+05</td> <td> 3.92e+05</td> <td>   -0.748</td> <td> 0.454</td> <td>-1.06e+06</td> <td> 4.75e+05</td>\n",
       "</tr>\n",
       "<tr>\n",
       "  <th>Category_PRODUCTIVITY</th>        <td>-1.033e+06</td> <td> 3.93e+05</td> <td>   -2.626</td> <td> 0.009</td> <td> -1.8e+06</td> <td>-2.62e+05</td>\n",
       "</tr>\n",
       "<tr>\n",
       "  <th>Category_SHOPPING</th>            <td> 1.733e+04</td> <td> 3.99e+05</td> <td>    0.043</td> <td> 0.965</td> <td>-7.65e+05</td> <td> 7.99e+05</td>\n",
       "</tr>\n",
       "<tr>\n",
       "  <th>Category_SOCIAL</th>              <td> 1.582e+06</td> <td> 4.09e+05</td> <td>    3.869</td> <td> 0.000</td> <td>  7.8e+05</td> <td> 2.38e+06</td>\n",
       "</tr>\n",
       "<tr>\n",
       "  <th>Category_SPORTS</th>              <td>  5.91e+04</td> <td> 3.97e+05</td> <td>    0.149</td> <td> 0.882</td> <td>-7.19e+05</td> <td> 8.38e+05</td>\n",
       "</tr>\n",
       "<tr>\n",
       "  <th>Category_TOOLS</th>               <td>-1.643e+04</td> <td> 3.72e+05</td> <td>   -0.044</td> <td> 0.965</td> <td>-7.46e+05</td> <td> 7.14e+05</td>\n",
       "</tr>\n",
       "<tr>\n",
       "  <th>Category_TRAVEL_AND_LOCAL</th>    <td>-5.371e+05</td> <td> 4.06e+05</td> <td>   -1.324</td> <td> 0.185</td> <td>-1.33e+06</td> <td> 2.58e+05</td>\n",
       "</tr>\n",
       "<tr>\n",
       "  <th>Category_VIDEO_PLAYERS</th>       <td>-2.859e+05</td> <td>  4.3e+05</td> <td>   -0.664</td> <td> 0.507</td> <td>-1.13e+06</td> <td> 5.58e+05</td>\n",
       "</tr>\n",
       "<tr>\n",
       "  <th>Category_WEATHER</th>             <td> 1.278e+05</td> <td> 5.04e+05</td> <td>    0.253</td> <td> 0.800</td> <td>-8.61e+05</td> <td> 1.12e+06</td>\n",
       "</tr>\n",
       "<tr>\n",
       "  <th>Content Rating_Everyone 10+</th>  <td> 9.643e+05</td> <td> 1.68e+05</td> <td>    5.725</td> <td> 0.000</td> <td> 6.34e+05</td> <td> 1.29e+06</td>\n",
       "</tr>\n",
       "<tr>\n",
       "  <th>Content Rating_Mature 17+</th>    <td>-3.072e+05</td> <td> 1.86e+05</td> <td>   -1.654</td> <td> 0.098</td> <td>-6.71e+05</td> <td> 5.69e+04</td>\n",
       "</tr>\n",
       "<tr>\n",
       "  <th>Content Rating_Teen</th>          <td> 1.065e+05</td> <td> 1.15e+05</td> <td>    0.927</td> <td> 0.354</td> <td>-1.19e+05</td> <td> 3.32e+05</td>\n",
       "</tr>\n",
       "<tr>\n",
       "  <th>Installs_5.0</th>                 <td>-8.287e+04</td> <td> 2.19e+06</td> <td>   -0.038</td> <td> 0.970</td> <td>-4.38e+06</td> <td> 4.21e+06</td>\n",
       "</tr>\n",
       "<tr>\n",
       "  <th>Installs_10.0</th>                <td> 2.907e+05</td> <td> 1.95e+06</td> <td>    0.149</td> <td> 0.881</td> <td>-3.52e+06</td> <td>  4.1e+06</td>\n",
       "</tr>\n",
       "<tr>\n",
       "  <th>Installs_50.0</th>                <td> 2.731e+05</td> <td> 1.96e+06</td> <td>    0.139</td> <td> 0.889</td> <td>-3.57e+06</td> <td> 4.12e+06</td>\n",
       "</tr>\n",
       "<tr>\n",
       "  <th>Installs_100.0</th>               <td> 3.754e+05</td> <td> 1.91e+06</td> <td>    0.197</td> <td> 0.844</td> <td>-3.37e+06</td> <td> 4.12e+06</td>\n",
       "</tr>\n",
       "<tr>\n",
       "  <th>Installs_500.0</th>               <td> 3.584e+05</td> <td> 1.92e+06</td> <td>    0.187</td> <td> 0.852</td> <td> -3.4e+06</td> <td> 4.11e+06</td>\n",
       "</tr>\n",
       "<tr>\n",
       "  <th>Installs_1000.0</th>              <td> 3.725e+05</td> <td>  1.9e+06</td> <td>    0.196</td> <td> 0.845</td> <td>-3.36e+06</td> <td> 4.11e+06</td>\n",
       "</tr>\n",
       "<tr>\n",
       "  <th>Installs_5000.0</th>              <td> 4.259e+05</td> <td> 1.91e+06</td> <td>    0.223</td> <td> 0.823</td> <td>-3.31e+06</td> <td> 4.17e+06</td>\n",
       "</tr>\n",
       "<tr>\n",
       "  <th>Installs_10000.0</th>             <td> 3.476e+05</td> <td>  1.9e+06</td> <td>    0.183</td> <td> 0.855</td> <td>-3.38e+06</td> <td> 4.08e+06</td>\n",
       "</tr>\n",
       "<tr>\n",
       "  <th>Installs_50000.0</th>             <td> 3.629e+05</td> <td> 1.91e+06</td> <td>    0.190</td> <td> 0.849</td> <td>-3.38e+06</td> <td>  4.1e+06</td>\n",
       "</tr>\n",
       "<tr>\n",
       "  <th>Installs_100000.0</th>            <td> 3.266e+05</td> <td>  1.9e+06</td> <td>    0.172</td> <td> 0.864</td> <td> -3.4e+06</td> <td> 4.06e+06</td>\n",
       "</tr>\n",
       "<tr>\n",
       "  <th>Installs_500000.0</th>            <td> 3.184e+05</td> <td> 1.91e+06</td> <td>    0.167</td> <td> 0.867</td> <td>-3.42e+06</td> <td> 4.05e+06</td>\n",
       "</tr>\n",
       "<tr>\n",
       "  <th>Installs_1000000.0</th>           <td> 3.832e+05</td> <td>  1.9e+06</td> <td>    0.201</td> <td> 0.840</td> <td>-3.35e+06</td> <td> 4.11e+06</td>\n",
       "</tr>\n",
       "<tr>\n",
       "  <th>Installs_5000000.0</th>           <td> 3.928e+05</td> <td>  1.9e+06</td> <td>    0.206</td> <td> 0.837</td> <td>-3.34e+06</td> <td> 4.12e+06</td>\n",
       "</tr>\n",
       "<tr>\n",
       "  <th>Installs_10000000.0</th>          <td> 6.261e+05</td> <td>  1.9e+06</td> <td>    0.329</td> <td> 0.742</td> <td> -3.1e+06</td> <td> 4.36e+06</td>\n",
       "</tr>\n",
       "<tr>\n",
       "  <th>Installs_50000000.0</th>          <td> 1.422e+06</td> <td> 1.91e+06</td> <td>    0.745</td> <td> 0.456</td> <td>-2.32e+06</td> <td> 5.16e+06</td>\n",
       "</tr>\n",
       "<tr>\n",
       "  <th>Installs_100000000.0</th>         <td>  4.86e+06</td> <td> 1.91e+06</td> <td>    2.551</td> <td> 0.011</td> <td> 1.13e+06</td> <td> 8.59e+06</td>\n",
       "</tr>\n",
       "<tr>\n",
       "  <th>Installs_500000000.0</th>         <td> 1.021e+07</td> <td> 1.93e+06</td> <td>    5.301</td> <td> 0.000</td> <td> 6.44e+06</td> <td>  1.4e+07</td>\n",
       "</tr>\n",
       "<tr>\n",
       "  <th>Installs_1000000000.0</th>        <td> 2.182e+07</td> <td> 1.93e+06</td> <td>   11.277</td> <td> 0.000</td> <td>  1.8e+07</td> <td> 2.56e+07</td>\n",
       "</tr>\n",
       "</table>\n",
       "<table class=\"simpletable\">\n",
       "<tr>\n",
       "  <th>Omnibus:</th>       <td>10766.287</td> <th>  Durbin-Watson:     </th>  <td>   1.630</td>  \n",
       "</tr>\n",
       "<tr>\n",
       "  <th>Prob(Omnibus):</th>  <td> 0.000</td>   <th>  Jarque-Bera (JB):  </th> <td>9895749.266</td>\n",
       "</tr>\n",
       "<tr>\n",
       "  <th>Skew:</th>           <td> 9.539</td>   <th>  Prob(JB):          </th>  <td>    0.00</td>  \n",
       "</tr>\n",
       "<tr>\n",
       "  <th>Kurtosis:</th>       <td>186.830</td>  <th>  Cond. No.          </th>  <td>4.73e+03</td>  \n",
       "</tr>\n",
       "</table><br/><br/>Warnings:<br/>[1] Standard Errors assume that the covariance matrix of the errors is correctly specified.<br/>[2] The condition number is large, 4.73e+03. This might indicate that there are<br/>strong multicollinearity or other numerical problems."
      ],
      "text/plain": [
       "<class 'statsmodels.iolib.summary.Summary'>\n",
       "\"\"\"\n",
       "                            OLS Regression Results                            \n",
       "==============================================================================\n",
       "Dep. Variable:                Reviews   R-squared:                       0.456\n",
       "Model:                            OLS   Adj. R-squared:                  0.451\n",
       "Method:                 Least Squares   F-statistic:                     105.0\n",
       "Date:                Thu, 19 Nov 2020   Prob (F-statistic):               0.00\n",
       "Time:                        15:05:52   Log-Likelihood:            -1.1276e+05\n",
       "No. Observations:                6953   AIC:                         2.256e+05\n",
       "Df Residuals:                    6897   BIC:                         2.260e+05\n",
       "Df Model:                          55                                         \n",
       "Covariance Type:            nonrobust                                         \n",
       "================================================================================================\n",
       "                                   coef    std err          t      P>|t|      [0.025      0.975]\n",
       "------------------------------------------------------------------------------------------------\n",
       "const                        -9.886e+05   1.97e+06     -0.503      0.615   -4.84e+06    2.86e+06\n",
       "Rating                        1.387e+05   6.98e+04      1.985      0.047    1758.369    2.76e+05\n",
       "Price                           31.5781   1777.868      0.018      0.986   -3453.591    3516.747\n",
       "Category_AUTO_AND_VEHICLES    3.758e+04   4.87e+05      0.077      0.938   -9.17e+05    9.92e+05\n",
       "Category_BEAUTY               4.671e+04   5.54e+05      0.084      0.933   -1.04e+06    1.13e+06\n",
       "Category_BOOKS_AND_REFERENCE -2.982e+05   4.25e+05     -0.701      0.483   -1.13e+06    5.35e+05\n",
       "Category_BUSINESS             1438.4583      4e+05      0.004      0.997   -7.83e+05    7.86e+05\n",
       "Category_COMICS               6.674e+04   5.16e+05      0.129      0.897   -9.45e+05    1.08e+06\n",
       "Category_COMMUNICATION        1.945e+05   3.92e+05      0.496      0.620   -5.75e+05    9.64e+05\n",
       "Category_DATING               3.746e+05   4.36e+05      0.859      0.390    -4.8e+05    1.23e+06\n",
       "Category_EDUCATION            5.911e+04   4.12e+05      0.143      0.886   -7.49e+05    8.67e+05\n",
       "Category_ENTERTAINMENT       -2.042e+05   4.22e+05     -0.484      0.629   -1.03e+06    6.23e+05\n",
       "Category_EVENTS              -3.803e+04   5.51e+05     -0.069      0.945   -1.12e+06    1.04e+06\n",
       "Category_FAMILY               6.972e+04    3.6e+05      0.194      0.846   -6.36e+05    7.75e+05\n",
       "Category_FINANCE              7764.9574   3.94e+05      0.020      0.984   -7.66e+05    7.81e+05\n",
       "Category_FOOD_AND_DRINK       6.045e+04   4.49e+05      0.135      0.893    -8.2e+05    9.41e+05\n",
       "Category_GAME                  5.43e+05   3.66e+05      1.482      0.138   -1.75e+05    1.26e+06\n",
       "Category_HEALTH_AND_FITNESS   3.262e+04   3.87e+05      0.084      0.933   -7.26e+05    7.91e+05\n",
       "Category_HOUSE_AND_HOME       5.551e+04   4.74e+05      0.117      0.907   -8.74e+05    9.85e+05\n",
       "Category_LIBRARIES_AND_DEMO    4.77e+04   4.91e+05      0.097      0.923   -9.14e+05    1.01e+06\n",
       "Category_LIFESTYLE            5.429e+04   3.91e+05      0.139      0.890   -7.12e+05    8.21e+05\n",
       "Category_MAPS_AND_NAVIGATION  1.365e+05   4.51e+05      0.302      0.762   -7.48e+05    1.02e+06\n",
       "Category_MEDICAL              4.758e+04   3.83e+05      0.124      0.901   -7.04e+05    7.99e+05\n",
       "Category_NEWS_AND_MAGAZINES  -7.722e+05   4.15e+05     -1.859      0.063   -1.59e+06     4.2e+04\n",
       "Category_PARENTING            5.791e+04   5.22e+05      0.111      0.912   -9.66e+05    1.08e+06\n",
       "Category_PERSONALIZATION       3.15e+04    3.9e+05      0.081      0.936   -7.32e+05    7.95e+05\n",
       "Category_PHOTOGRAPHY         -2.931e+05   3.92e+05     -0.748      0.454   -1.06e+06    4.75e+05\n",
       "Category_PRODUCTIVITY        -1.033e+06   3.93e+05     -2.626      0.009    -1.8e+06   -2.62e+05\n",
       "Category_SHOPPING             1.733e+04   3.99e+05      0.043      0.965   -7.65e+05    7.99e+05\n",
       "Category_SOCIAL               1.582e+06   4.09e+05      3.869      0.000     7.8e+05    2.38e+06\n",
       "Category_SPORTS                5.91e+04   3.97e+05      0.149      0.882   -7.19e+05    8.38e+05\n",
       "Category_TOOLS               -1.643e+04   3.72e+05     -0.044      0.965   -7.46e+05    7.14e+05\n",
       "Category_TRAVEL_AND_LOCAL    -5.371e+05   4.06e+05     -1.324      0.185   -1.33e+06    2.58e+05\n",
       "Category_VIDEO_PLAYERS       -2.859e+05    4.3e+05     -0.664      0.507   -1.13e+06    5.58e+05\n",
       "Category_WEATHER              1.278e+05   5.04e+05      0.253      0.800   -8.61e+05    1.12e+06\n",
       "Content Rating_Everyone 10+   9.643e+05   1.68e+05      5.725      0.000    6.34e+05    1.29e+06\n",
       "Content Rating_Mature 17+    -3.072e+05   1.86e+05     -1.654      0.098   -6.71e+05    5.69e+04\n",
       "Content Rating_Teen           1.065e+05   1.15e+05      0.927      0.354   -1.19e+05    3.32e+05\n",
       "Installs_5.0                 -8.287e+04   2.19e+06     -0.038      0.970   -4.38e+06    4.21e+06\n",
       "Installs_10.0                 2.907e+05   1.95e+06      0.149      0.881   -3.52e+06     4.1e+06\n",
       "Installs_50.0                 2.731e+05   1.96e+06      0.139      0.889   -3.57e+06    4.12e+06\n",
       "Installs_100.0                3.754e+05   1.91e+06      0.197      0.844   -3.37e+06    4.12e+06\n",
       "Installs_500.0                3.584e+05   1.92e+06      0.187      0.852    -3.4e+06    4.11e+06\n",
       "Installs_1000.0               3.725e+05    1.9e+06      0.196      0.845   -3.36e+06    4.11e+06\n",
       "Installs_5000.0               4.259e+05   1.91e+06      0.223      0.823   -3.31e+06    4.17e+06\n",
       "Installs_10000.0              3.476e+05    1.9e+06      0.183      0.855   -3.38e+06    4.08e+06\n",
       "Installs_50000.0              3.629e+05   1.91e+06      0.190      0.849   -3.38e+06     4.1e+06\n",
       "Installs_100000.0             3.266e+05    1.9e+06      0.172      0.864    -3.4e+06    4.06e+06\n",
       "Installs_500000.0             3.184e+05   1.91e+06      0.167      0.867   -3.42e+06    4.05e+06\n",
       "Installs_1000000.0            3.832e+05    1.9e+06      0.201      0.840   -3.35e+06    4.11e+06\n",
       "Installs_5000000.0            3.928e+05    1.9e+06      0.206      0.837   -3.34e+06    4.12e+06\n",
       "Installs_10000000.0           6.261e+05    1.9e+06      0.329      0.742    -3.1e+06    4.36e+06\n",
       "Installs_50000000.0           1.422e+06   1.91e+06      0.745      0.456   -2.32e+06    5.16e+06\n",
       "Installs_100000000.0           4.86e+06   1.91e+06      2.551      0.011    1.13e+06    8.59e+06\n",
       "Installs_500000000.0          1.021e+07   1.93e+06      5.301      0.000    6.44e+06     1.4e+07\n",
       "Installs_1000000000.0         2.182e+07   1.93e+06     11.277      0.000     1.8e+07    2.56e+07\n",
       "==============================================================================\n",
       "Omnibus:                    10766.287   Durbin-Watson:                   1.630\n",
       "Prob(Omnibus):                  0.000   Jarque-Bera (JB):          9895749.266\n",
       "Skew:                           9.539   Prob(JB):                         0.00\n",
       "Kurtosis:                     186.830   Cond. No.                     4.73e+03\n",
       "==============================================================================\n",
       "\n",
       "Warnings:\n",
       "[1] Standard Errors assume that the covariance matrix of the errors is correctly specified.\n",
       "[2] The condition number is large, 4.73e+03. This might indicate that there are\n",
       "strong multicollinearity or other numerical problems.\n",
       "\"\"\""
      ]
     },
     "execution_count": 53,
     "metadata": {},
     "output_type": "execute_result"
    }
   ],
   "source": [
    "results_re.summary()"
   ]
  },
  {
   "cell_type": "code",
   "execution_count": null,
   "metadata": {},
   "outputs": [],
   "source": [
    "#plt.plot(pre, color='black')\n",
    "#plt.title(\"Resultado Predict Linear Regression\")\n",
    "#plt.xlabel(\"X\")\n",
    "#plt.ylabel(\"Y\")\n",
    "#plt.show()"
   ]
  },
  {
   "cell_type": "code",
   "execution_count": 54,
   "metadata": {},
   "outputs": [],
   "source": [
    "from sklearn.ensemble import RandomForestRegressor\n",
    "from sklearn.linear_model import Lasso, LinearRegression"
   ]
  },
  {
   "cell_type": "code",
   "execution_count": 55,
   "metadata": {},
   "outputs": [
    {
     "data": {
      "text/plain": [
       "RandomForestRegressor(n_jobs=-1)"
      ]
     },
     "execution_count": 55,
     "metadata": {},
     "output_type": "execute_result"
    }
   ],
   "source": [
    "model = RandomForestRegressor(n_estimators=100,n_jobs=-1)\n",
    "model1 = RandomForestRegressor(n_estimators=100,n_jobs=-1)\n",
    "model_re = RandomForestRegressor(n_estimators=100,n_jobs=-1)\n",
    "\n",
    "model_re.fit(X_re,Y_re)\n",
    "model1.fit(X1, Y)\n",
    "model.fit(X, Y)"
   ]
  },
  {
   "cell_type": "code",
   "execution_count": null,
   "metadata": {},
   "outputs": [],
   "source": []
  },
  {
   "cell_type": "code",
   "execution_count": 56,
   "metadata": {},
   "outputs": [],
   "source": [
    "Ypred = model.predict(Xtest)\n",
    "Y1pred = model1.predict(X1test)\n",
    "Y_repred = model_re.predict(Xtest_re)"
   ]
  },
  {
   "cell_type": "code",
   "execution_count": 58,
   "metadata": {},
   "outputs": [],
   "source": [
    "residuos = Ytest - Ypred"
   ]
  },
  {
   "cell_type": "code",
   "execution_count": 61,
   "metadata": {},
   "outputs": [
    {
     "data": {
      "image/png": "[encoded data removed]",
      "text/plain": [
       "<Figure size 432x288 with 1 Axes>"
      ]
     },
     "metadata": {
      "needs_background": "light"
     },
     "output_type": "display_data"
    }
   ],
   "source": [
    "plt.hist(residuos, bins=50);"
   ]
  },
  {
   "cell_type": "code",
   "execution_count": 63,
   "metadata": {},
   "outputs": [
    {
     "data": {
      "image/png": "[encoded data removed]",
      "text/plain": [
       "<Figure size 432x288 with 1 Axes>"
      ]
     },
     "metadata": {
      "needs_background": "light"
     },
     "output_type": "display_data"
    }
   ],
   "source": [
    "plt.hist(Ytest, bins=50);"
   ]
  },
  {
   "cell_type": "code",
   "execution_count": 65,
   "metadata": {},
   "outputs": [
    {
     "data": {
      "image/png": "[encoded data removed]",
      "text/plain": [
       "<Figure size 432x288 with 1 Axes>"
      ]
     },
     "metadata": {
      "needs_background": "light"
     },
     "output_type": "display_data"
    }
   ],
   "source": [
    "plt.hist(Ypred, bins=50);"
   ]
  },
  {
   "cell_type": "code",
   "execution_count": 67,
   "metadata": {},
   "outputs": [
    {
     "data": {
      "text/plain": [
       "<matplotlib.collections.PathCollection at 0xfd340d0>"
      ]
     },
     "execution_count": 67,
     "metadata": {},
     "output_type": "execute_result"
    },
    {
     "data": {
      "image/png": "[encoded data removed]",
      "text/plain": [
       "<Figure size 432x288 with 1 Axes>"
      ]
     },
     "metadata": {
      "needs_background": "light"
     },
     "output_type": "display_data"
    }
   ],
   "source": [
    "plt.scatter(Ytest, Ypred)"
   ]
  },
  {
   "cell_type": "code",
   "execution_count": 57,
   "metadata": {},
   "outputs": [
    {
     "data": {
      "text/plain": [
       "-0.06624656612763391"
      ]
     },
     "execution_count": 57,
     "metadata": {},
     "output_type": "execute_result"
    }
   ],
   "source": [
    "from sklearn.metrics import r2_score\n",
    "r2_score(Ytest, Ypred)"
   ]
  },
  {
   "cell_type": "code",
   "execution_count": null,
   "metadata": {},
   "outputs": [],
   "source": [
    "r2_score(Ytest, Y1pred)"
   ]
  },
  {
   "cell_type": "code",
   "execution_count": null,
   "metadata": {},
   "outputs": [],
   "source": [
    "r2_score(Ytest_re,Y_repred)"
   ]
  },
  {
   "cell_type": "code",
   "execution_count": null,
   "metadata": {},
   "outputs": [],
   "source": []
  }
 ],
 "metadata": {
  "kernelspec": {
   "display_name": "Python 3",
   "language": "python",
   "name": "python3"
  },
  "language_info": {
   "codemirror_mode": {
    "name": "ipython",
    "version": 3
   },
   "file_extension": ".py",
   "mimetype": "text/x-python",
   "name": "python",
   "nbconvert_exporter": "python",
   "pygments_lexer": "ipython3",
   "version": "3.7.4"
  }
 },
 "nbformat": 4,
 "nbformat_minor": 2
}
